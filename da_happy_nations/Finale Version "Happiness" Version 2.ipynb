{
 "cells": [
  {
   "cell_type": "code",
   "execution_count": 2,
   "id": "f4c2ff15",
   "metadata": {},
   "outputs": [],
   "source": [
    "import pandas as pd\n",
    "import numpy as np\n",
    "import matplotlib.pyplot as plt"
   ]
  },
  {
   "cell_type": "markdown",
   "id": "9aaf5858",
   "metadata": {},
   "source": [
    "### Table of contents\n",
    "1. Introduction<br>\n",
    "  1.1 Topic of this investigation<br> \n",
    "  1.2 Datasets used <br>\n",
    "  1.3 Definition of \"Happiness Score\", \"Human Development Index\" and \"Gini Coefficient\"<br>\n",
    "  \n",
    "2. Data Cleaning<br>\n",
    "  2.1 Data overview<br>\n",
    "  2.2 Data issues to be aware of<br>\n",
    "  2.3 Preparation of the Happiness data set<br>\n",
    "  2.4 Building a reusable function to turn data from wide to long format<br>\n",
    "  2.5 Investigating for missing data<br>\n",
    "  2.6 Building a reusable function to check for NaN values<br>\n",
    "  2.7 Conclusion missing data: Enough Happiness data to procede?<br>\n",
    "  2.8 Preparation of the HDI data<br>\n",
    "  2.9 Are the HDI data complete enough?<br>\n",
    "  2.10 Preperation of the Gini Set<br>\n",
    "3. Exploratory Data Analysis (EDA) of the Happiness Dataset<br>\n",
    "  3.1 Explanation of the metrics used<br>\n",
    "  3.2 Preparing the Happiness Data for EDA<br>\n",
    "  3.3 Happy or less happy?<br>\n",
    "  3.4 Which countries are less happier at last measurement then at first measurement? <br>\n",
    "  3.5 Which country holds the all time \"high\" in terms of Happiness Score?<br>\n",
    "  3.6 Which country is the happiest in the world now?<br>\n",
    "  3.7 Excursus: Are Scandinavians generally happier people?<br>\n",
    "  3.8 Top 10 of Happy Nations.<br>\n",
    "  3.9 Conclusion Excursus<br>\n",
    "  3.10 Which country has developed the most regarding HS from first to last value?<br>\n",
    "  3.11 Which country has the largest difference from lowest to highest value? <br>\n",
    "  3.12 Conclusion EDA of Happiness \n",
    "4. Investigation of Happiness, Gini and HDI<br>\n",
    "  4.1 Preparing HDI and Gini Sets analogous to the Happiness set.<br>\n",
    "  4.2 Losing country-rows by dropping NaN values and performing an inner merge<br>\n",
    "  4.3 The correlation of Happiness and HDI and overall correlation<br>\n",
    "  4.4 Correlation between HS and HDI in the four quartile ranges<br>\n",
    "  4.5 Conclusion HDI and Happiness Correlation<br>\n",
    "  4.6 Gini and Happiness (Overall Correlation)<br>\n",
    "5. Summary<br>\n",
    "6. What's missing?<br>\n",
    "7. What's nex?<br>"
   ]
  },
  {
   "cell_type": "markdown",
   "id": "02308642",
   "metadata": {},
   "source": [
    "# 1.  \"Happy nations\": Which factors contribute to the Happiness Score?"
   ]
  },
  {
   "cell_type": "markdown",
   "id": "ebeabe0e",
   "metadata": {},
   "source": [
    "### 1. 1 Questions\n",
    "\n",
    "The times we are experiencing are special: climate change and the rise of right-wing populism threatening our species as a whole and our democracy in special. I am convinced, that \"happy societies\" are more reasonable and therefore willing to do \"the right thing\". **Finding out which factors contributes to \"Happy nations\" is crucial for building stable and reasonable societies**. This investigation should serve as a starting point by answering these questions:\n",
    "1. Which factor is stronger correlated with the Happiness Score: Equality (Gini) or the combined value of life expectation, income, and education (HDI)?\n",
    "2. Do the influence of these factors (HDI / Gini) differ in their impact on the Happiness Score depending on the quartile? (Does the HDI makes more difference in the Happiness Score when in the fourth, than in the first quartile?)\n",
    "But first I want to gain an intuitive understanding of \"what is a happy nation\"? So I will find out:\n",
    "3. Which is the happiest country in the world now (And which Gini and HDI values do they have?\n",
    "4. What is the \"all-time high\" in terms of Happiness Score? **What can other countries learn from this country?**\n",
    "5. Which country has developed the most in terms of Happiness from the first to the last year measured? **This could be answering the question of \"how to improve happiness. Fast\" (Since the first year measured is 2005 in a further investigation.** \n",
    "6. Which country has the most \"drama\": The population of which country experiences the greatest difference between the highest and lowest value measured? **This could show which factors contribute to rising and declining happiness.** \n",
    "\n",
    "\n",
    "### 1.2 Datasets used\n",
    "For this project I make use of three datasets from **Gapminder**: \n",
    "- The **Human Development Index (HDI)**, \n",
    "- the **Happiness Score (HS)** \n",
    "- and the **Gini Coefficient (Gini)**\n",
    "\n",
    "<br>\n",
    "These sets provide data for more than 100 countries and for up to 50 years of measurement. However, these sets are not complete. I will tackle this issue in section 2. \n",
    "<br>\n",
    "\n",
    "### 1.3 A short explanation of the three indicators.\n",
    "\n",
    "#### Explanation of the Happiness Score (HS) ###\n",
    "The rankings of national happiness are based on a Cantril ladder survey. Nationally representative samples of respondents are asked to think of a ladder, with the best possible life for them being a 10, and the worst possible life being a 0. They are then asked to **rate their own current lives on that 0 to 10 scale**.[15] The report correlates the life evaluation results with various life factors<br>\n",
    "[Wikipedia](https://en.wikipedia.org/wiki/World_Happiness_Report)\n",
    "\n",
    "#### The Human Development Index  (HDI) ###\n",
    "The Human Development Index (HDI) is a statistic **composite index of life expectancy, education** (mean years of schooling completed and expected years of schooling upon entering the education system), and **per capita income** indicators, which is used to rank countries into **four tiers** of human development. A country scores a higher level of HDI when the lifespan is higher, the education level is higher, and the gross national income GNI (PPP) per capita is higher.<br>\n",
    "[Wikipedia](https://en.wikipedia.org/wiki/Human_Development_Index)\n",
    "\n",
    "#### The Gini Coefficient (Gini)\n",
    "The Gini coefficient **measures the inequality** among values of a frequency distribution, such as the levels of income. A Gini coefficient of 0 reflects perfect equality, where all income or wealth values are the same, while a Gini coefficient of 1 (or 100%) reflects maximal inequality among values. For example, if everyone has the same income, the Gini coefficient will be 0. In contrast, if for a large number of people only one person has all the income or consumption and all others have none, the Gini coefficient will be 1.<br>\n",
    "[Wikipedia](https://en.wikipedia.org/wiki/Gini_coefficient)\n"
   ]
  },
  {
   "cell_type": "code",
   "execution_count": 3,
   "id": "d3551f99",
   "metadata": {},
   "outputs": [],
   "source": [
    "df_hdi = pd.read_csv('./data/hdi_human_development_index.csv')\n",
    "df_happy = pd.read_csv('./data/hapiscore_whr.csv')\n",
    "df_gini = pd.read_csv('./data/inequality_index_gini.csv')"
   ]
  },
  {
   "cell_type": "markdown",
   "id": "9b8d24c2",
   "metadata": {},
   "source": [
    "## 2. Data Cleaning"
   ]
  },
  {
   "cell_type": "markdown",
   "id": "981f4b1d",
   "metadata": {},
   "source": [
    "### 2.1. Overview of the data Happines, HDI and Gini."
   ]
  },
  {
   "cell_type": "code",
   "execution_count": 4,
   "id": "3a53774b",
   "metadata": {
    "scrolled": true
   },
   "outputs": [],
   "source": [
    "#  ====== Happiness Score ======\n",
    "#Please feel free to uncomment\n",
    "\n",
    "#df_happy.head(1)"
   ]
  },
  {
   "cell_type": "code",
   "execution_count": 5,
   "id": "da8936cd",
   "metadata": {},
   "outputs": [
    {
     "data": {
      "text/plain": [
       "(163, 18)"
      ]
     },
     "execution_count": 5,
     "metadata": {},
     "output_type": "execute_result"
    }
   ],
   "source": [
    "df_happy.shape"
   ]
  },
  {
   "cell_type": "code",
   "execution_count": 6,
   "id": "0e63d1d5",
   "metadata": {},
   "outputs": [],
   "source": [
    "#df_happy.info()"
   ]
  },
  {
   "cell_type": "code",
   "execution_count": 7,
   "id": "391bdff2",
   "metadata": {},
   "outputs": [],
   "source": [
    "# ====== HDI ======  \n",
    "#Please feel free to uncomment\n",
    "\n",
    "#df_hdi.head(1)"
   ]
  },
  {
   "cell_type": "code",
   "execution_count": 8,
   "id": "229fbee3",
   "metadata": {
    "scrolled": true
   },
   "outputs": [
    {
     "data": {
      "text/plain": [
       "(189, 31)"
      ]
     },
     "execution_count": 8,
     "metadata": {},
     "output_type": "execute_result"
    }
   ],
   "source": [
    "df_hdi.shape"
   ]
  },
  {
   "cell_type": "code",
   "execution_count": 9,
   "id": "be9cf920",
   "metadata": {},
   "outputs": [],
   "source": [
    "#df_hdi.info()"
   ]
  },
  {
   "cell_type": "code",
   "execution_count": 10,
   "id": "34846749",
   "metadata": {
    "scrolled": true
   },
   "outputs": [],
   "source": [
    "# ======= Gini Index ======\n",
    "#Please feel free to uncomment\n",
    "\n",
    "#df_gini.head(1)"
   ]
  },
  {
   "cell_type": "code",
   "execution_count": 11,
   "id": "03bd85be",
   "metadata": {},
   "outputs": [
    {
     "data": {
      "text/plain": [
       "(168, 56)"
      ]
     },
     "execution_count": 11,
     "metadata": {},
     "output_type": "execute_result"
    }
   ],
   "source": [
    "df_gini.shape"
   ]
  },
  {
   "cell_type": "code",
   "execution_count": 12,
   "id": "13b8a784",
   "metadata": {},
   "outputs": [],
   "source": [
    "#df_gini.info()"
   ]
  },
  {
   "cell_type": "markdown",
   "id": "7f06c103",
   "metadata": {},
   "source": [
    "## 2.2 Issues to be aware of"
   ]
  },
  {
   "cell_type": "markdown",
   "id": "65d1b96f",
   "metadata": {},
   "source": [
    "There are two general issues with these datasets:\n",
    "\n",
    "1. **The data are provided in a wide format.** The handling would be easier in a long format especially when it comes to the merging of the datasets (HDI, Gini, Happiness). **Also because I want to calculate new columns for descriptive statistics like mean, min, max and median to combine the yearly values.** \n",
    "\n",
    "I tackle this issue in the next section. (2.3)\n",
    "\n",
    "2. The data have a **different number of countries**. Also, measurements – **data for some years are missing**. These gaps vary from country to country. (This issue will become obvious in the cells below.)\n",
    "\n",
    "I will tackle this issue in the last section when it comes to merging the datasets. "
   ]
  },
  {
   "cell_type": "code",
   "execution_count": 13,
   "id": "3f4c3897",
   "metadata": {},
   "outputs": [
    {
     "data": {
      "text/html": [
       "<div>\n",
       "<style scoped>\n",
       "    .dataframe tbody tr th:only-of-type {\n",
       "        vertical-align: middle;\n",
       "    }\n",
       "\n",
       "    .dataframe tbody tr th {\n",
       "        vertical-align: top;\n",
       "    }\n",
       "\n",
       "    .dataframe thead th {\n",
       "        text-align: right;\n",
       "    }\n",
       "</style>\n",
       "<table border=\"1\" class=\"dataframe\">\n",
       "  <thead>\n",
       "    <tr style=\"text-align: right;\">\n",
       "      <th></th>\n",
       "      <th>country</th>\n",
       "      <th>1967</th>\n",
       "      <th>1968</th>\n",
       "      <th>1969</th>\n",
       "      <th>1970</th>\n",
       "      <th>1971</th>\n",
       "      <th>1972</th>\n",
       "      <th>1973</th>\n",
       "      <th>1974</th>\n",
       "      <th>1975</th>\n",
       "      <th>...</th>\n",
       "      <th>2012</th>\n",
       "      <th>2013</th>\n",
       "      <th>2014</th>\n",
       "      <th>2015</th>\n",
       "      <th>2016</th>\n",
       "      <th>2017</th>\n",
       "      <th>2018</th>\n",
       "      <th>2019</th>\n",
       "      <th>2020</th>\n",
       "      <th>2021</th>\n",
       "    </tr>\n",
       "  </thead>\n",
       "  <tbody>\n",
       "    <tr>\n",
       "      <th>0</th>\n",
       "      <td>Angola</td>\n",
       "      <td>NaN</td>\n",
       "      <td>NaN</td>\n",
       "      <td>NaN</td>\n",
       "      <td>NaN</td>\n",
       "      <td>NaN</td>\n",
       "      <td>NaN</td>\n",
       "      <td>NaN</td>\n",
       "      <td>NaN</td>\n",
       "      <td>NaN</td>\n",
       "      <td>...</td>\n",
       "      <td>NaN</td>\n",
       "      <td>NaN</td>\n",
       "      <td>NaN</td>\n",
       "      <td>NaN</td>\n",
       "      <td>NaN</td>\n",
       "      <td>NaN</td>\n",
       "      <td>51.3</td>\n",
       "      <td>NaN</td>\n",
       "      <td>NaN</td>\n",
       "      <td>NaN</td>\n",
       "    </tr>\n",
       "    <tr>\n",
       "      <th>1</th>\n",
       "      <td>Albania</td>\n",
       "      <td>NaN</td>\n",
       "      <td>NaN</td>\n",
       "      <td>NaN</td>\n",
       "      <td>NaN</td>\n",
       "      <td>NaN</td>\n",
       "      <td>NaN</td>\n",
       "      <td>NaN</td>\n",
       "      <td>NaN</td>\n",
       "      <td>NaN</td>\n",
       "      <td>...</td>\n",
       "      <td>29.0</td>\n",
       "      <td>NaN</td>\n",
       "      <td>34.6</td>\n",
       "      <td>32.8</td>\n",
       "      <td>33.7</td>\n",
       "      <td>33.1</td>\n",
       "      <td>30.1</td>\n",
       "      <td>30.8</td>\n",
       "      <td>NaN</td>\n",
       "      <td>NaN</td>\n",
       "    </tr>\n",
       "  </tbody>\n",
       "</table>\n",
       "<p>2 rows × 56 columns</p>\n",
       "</div>"
      ],
      "text/plain": [
       "   country  1967  1968  1969  1970  1971  1972  1973  1974  1975  ...  2012  \\\n",
       "0   Angola   NaN   NaN   NaN   NaN   NaN   NaN   NaN   NaN   NaN  ...   NaN   \n",
       "1  Albania   NaN   NaN   NaN   NaN   NaN   NaN   NaN   NaN   NaN  ...  29.0   \n",
       "\n",
       "   2013  2014  2015  2016  2017  2018  2019  2020  2021  \n",
       "0   NaN   NaN   NaN   NaN   NaN  51.3   NaN   NaN   NaN  \n",
       "1   NaN  34.6  32.8  33.7  33.1  30.1  30.8   NaN   NaN  \n",
       "\n",
       "[2 rows x 56 columns]"
      ]
     },
     "execution_count": 13,
     "metadata": {},
     "output_type": "execute_result"
    }
   ],
   "source": [
    "df_gini.head(2)"
   ]
  },
  {
   "cell_type": "markdown",
   "id": "7bcaaca4",
   "metadata": {},
   "source": [
    "### 2.3 Step by step preparation of the Happiness Data set."
   ]
  },
  {
   "cell_type": "markdown",
   "id": "4a0dd10f",
   "metadata": {},
   "source": [
    "First I prepare the Happiness Data in detail. I'll repeat these steps for the HDI and Gini data."
   ]
  },
  {
   "cell_type": "markdown",
   "id": "554343ab",
   "metadata": {},
   "source": [
    "As mentioned above I **transform the data from a wide- to a long-format**:<br>\n",
    "- The countries stay in the column \"country\" which will be the index of the transformed data frame.\n",
    "- The years will be placed in a column \"years\"\n",
    "- And the value in question (HDI, HS, Gini) are placed in an accordingly named column.<br>\n",
    "\n",
    "\n",
    "This will make it easier to calculate metrics of descriptive statistics.\n",
    "\n",
    "Because I need to repeat this step, I write a function:"
   ]
  },
  {
   "cell_type": "markdown",
   "id": "54f77e40",
   "metadata": {},
   "source": [
    "### 2.4 Building a reusable function to turn data from wide to long format"
   ]
  },
  {
   "cell_type": "code",
   "execution_count": 14,
   "id": "24000dd7",
   "metadata": {},
   "outputs": [],
   "source": [
    "# Reuseble function to turn the dataset into long format.\n",
    "def long_format(dataframe, column_names):\n",
    "    df_long_format = (dataframe.set_index(column_names[0])\n",
    "        .unstack()\n",
    "        .sort_index(level=1)\n",
    "        .reset_index(drop=False)\n",
    "        .rename(columns={ \n",
    "            'level_0': column_names[1], \n",
    "            0: column_names[2]})\n",
    "        )\n",
    "    return pd.DataFrame(df_long_format)"
   ]
  },
  {
   "cell_type": "markdown",
   "id": "be3d587f",
   "metadata": {},
   "source": [
    "#### Applying the function on the Happiness data"
   ]
  },
  {
   "cell_type": "code",
   "execution_count": 15,
   "id": "e5ea5fc7",
   "metadata": {
    "scrolled": true
   },
   "outputs": [
    {
     "data": {
      "text/plain": [
       "(2771, 3)"
      ]
     },
     "execution_count": 15,
     "metadata": {},
     "output_type": "execute_result"
    }
   ],
   "source": [
    "happy_lf = long_format(df_happy, ['country', 'year', 'hs'])\n",
    "happy_lf.shape"
   ]
  },
  {
   "cell_type": "markdown",
   "id": "05f3995c",
   "metadata": {},
   "source": [
    "### 2.5 Investigating for missing data"
   ]
  },
  {
   "cell_type": "markdown",
   "id": "55be2e32",
   "metadata": {},
   "source": [
    "As we saw in the wide format set the measurements starts in 2005. However, some values are missing. **To see how many years per country are missing I'll build a set with only the NaN values, group them by country and count them.** \n",
    "\n",
    "### 2.6 Building a reusable function to check for NaN values\n",
    "Because I need to repeat this step, I'll write a function. "
   ]
  },
  {
   "cell_type": "code",
   "execution_count": 16,
   "id": "2c5ede28",
   "metadata": {},
   "outputs": [],
   "source": [
    "def group_and_count(df, column, group_by):\n",
    "    filtered = df[df[column].isnull()]\n",
    "    grouped = filtered.groupby(group_by)\n",
    "    return pd.DataFrame(grouped[group_by].value_counts())"
   ]
  },
  {
   "cell_type": "markdown",
   "id": "84321a9c",
   "metadata": {},
   "source": [
    "#### Check now, drop later"
   ]
  },
  {
   "cell_type": "markdown",
   "id": "edaab742",
   "metadata": {},
   "source": [
    "The above function allows me to select countries that I *maybe* want to drop later on because they lack too much data.<br> **The measurement of happiness score spans 17 years.**<br>"
   ]
  },
  {
   "cell_type": "code",
   "execution_count": 17,
   "id": "0ac42a9c",
   "metadata": {},
   "outputs": [
    {
     "data": {
      "text/plain": [
       "17"
      ]
     },
     "execution_count": 17,
     "metadata": {},
     "output_type": "execute_result"
    }
   ],
   "source": [
    "#years (potentially) measured\n",
    "len(df_happy.columns)-1 #Because there is one country column…"
   ]
  },
  {
   "cell_type": "code",
   "execution_count": 18,
   "id": "c7465de2",
   "metadata": {},
   "outputs": [
    {
     "data": {
      "text/plain": [
       "(163, 1)"
      ]
     },
     "execution_count": 18,
     "metadata": {},
     "output_type": "execute_result"
    }
   ],
   "source": [
    "#Dataset with missing data\n",
    "happy_nan = group_and_count(happy_lf, 'hs', 'country')\n",
    "happy_nan.shape\n",
    "#happy_nan"
   ]
  },
  {
   "cell_type": "markdown",
   "id": "a5ee308c",
   "metadata": {},
   "source": [
    "### 2.7 Conclusion missing data: Enough Happiness to procede?"
   ]
  },
  {
   "cell_type": "markdown",
   "id": "0cd94bf4",
   "metadata": {},
   "source": [
    "163 countries out of 163 include at least one year with a missing value for the Happiness Score."
   ]
  },
  {
   "cell_type": "markdown",
   "id": "6b9a7336",
   "metadata": {},
   "source": [
    "So for the Happiness Score the \n",
    "- fewer years measured (max value of missing data) are: **Five countries provide only 1-year measured**.\n",
    "- max years measured (min value of missing data) are: **48 countries provide 16 years measured.**\n",
    "- and the median of missing data is: **24 countries provide the median value of measured years which is 3 years missing**<br>\n",
    "\n",
    "No country provides data for all 17 years.\n",
    "\n",
    "Feel free to uncomment:"
   ]
  },
  {
   "cell_type": "code",
   "execution_count": 19,
   "id": "fca121b6",
   "metadata": {},
   "outputs": [
    {
     "data": {
      "text/plain": [
       "5"
      ]
     },
     "execution_count": 19,
     "metadata": {},
     "output_type": "execute_result"
    }
   ],
   "source": [
    "#happy_nan[happy_nan['country'] == happy_nan['country'].max()]\n",
    "len(happy_nan[happy_nan['country'] == happy_nan['country'].max()])"
   ]
  },
  {
   "cell_type": "code",
   "execution_count": 20,
   "id": "a40721e9",
   "metadata": {},
   "outputs": [
    {
     "data": {
      "text/plain": [
       "48"
      ]
     },
     "execution_count": 20,
     "metadata": {},
     "output_type": "execute_result"
    }
   ],
   "source": [
    "#happy_nan[happy_nan['country'] == happy_nan['country'].min()]\n",
    "len(happy_nan[happy_nan['country'] == happy_nan['country'].min()])\n",
    "\n",
    "#To see an example value pls. uncomment\n",
    "#happy_lf[happy_lf['country'] == 'Germany']"
   ]
  },
  {
   "cell_type": "code",
   "execution_count": 21,
   "id": "c5d4e9d2",
   "metadata": {
    "scrolled": true
   },
   "outputs": [
    {
     "data": {
      "text/plain": [
       "24"
      ]
     },
     "execution_count": 21,
     "metadata": {},
     "output_type": "execute_result"
    }
   ],
   "source": [
    "#happy_nan[happy_nan['country'] == happy_nan['country'].median()]\n",
    "len(happy_nan[happy_nan['country'] == happy_nan['country'].median()])"
   ]
  },
  {
   "cell_type": "markdown",
   "id": "89bb3c47",
   "metadata": {},
   "source": [
    "#### Summary of data quality HS ####"
   ]
  },
  {
   "cell_type": "markdown",
   "id": "91d4215f",
   "metadata": {},
   "source": [
    "The Happiness set consists of 163 countries of which 163 countries lack years of measurement. 48 countries provide 16 years measured. The most will be between four and 15 years measured (Max value 16, median three). <br>\n",
    "\n",
    "**For Happiness Score-specific EDA investigation in the next section I'll keep all data. I do not fill missing years with medians, means, or fast forward-fills. The data are subjective and highly volatile which makes it in my opinion impossible to come up with a reasonable idea to fill in the missing data – due to the volatility.** (This will become obvious later on)"
   ]
  },
  {
   "cell_type": "markdown",
   "id": "2b44d410",
   "metadata": {},
   "source": [
    "In the next step later on I will drop data and merge them into one set combining HS, Gini, and HDI. At this point, I drop data."
   ]
  },
  {
   "cell_type": "markdown",
   "id": "fa8e7b3b",
   "metadata": {},
   "source": [
    "### 2.8 Preperation of the HDI Set"
   ]
  },
  {
   "cell_type": "markdown",
   "id": "424dd5ea",
   "metadata": {},
   "source": [
    "The measurement of HDI spans 30 years"
   ]
  },
  {
   "cell_type": "code",
   "execution_count": 22,
   "id": "39aeb5b6",
   "metadata": {},
   "outputs": [
    {
     "data": {
      "text/plain": [
       "30"
      ]
     },
     "execution_count": 22,
     "metadata": {},
     "output_type": "execute_result"
    }
   ],
   "source": [
    "#years (potentially) measured\n",
    "len(df_hdi.columns)-1 # because of one country column"
   ]
  },
  {
   "cell_type": "code",
   "execution_count": 23,
   "id": "4401b243",
   "metadata": {},
   "outputs": [],
   "source": [
    "# Transforming from wide to long format\n",
    "hdi_lf = long_format(df_hdi, ['country', 'year', 'hdi'])\n",
    "#hdi_lf.head()"
   ]
  },
  {
   "cell_type": "code",
   "execution_count": 24,
   "id": "3ab12e13",
   "metadata": {},
   "outputs": [
    {
     "data": {
      "text/plain": [
       "(45, 1)"
      ]
     },
     "execution_count": 24,
     "metadata": {},
     "output_type": "execute_result"
    }
   ],
   "source": [
    "#checking for NaN values\n",
    "hdi_nan = group_and_count(hdi_lf, 'hdi', 'country')\n",
    "hdi_nan.shape\n",
    "#hdi_nan"
   ]
  },
  {
   "cell_type": "markdown",
   "id": "d45405a3",
   "metadata": {},
   "source": [
    "### 2.9 Are the HDI data complete enough?"
   ]
  },
  {
   "cell_type": "markdown",
   "id": "073e4f40",
   "metadata": {},
   "source": [
    "45 countries out of 189 countries provide years with missing HDI values."
   ]
  },
  {
   "cell_type": "markdown",
   "id": "d8e6cb39",
   "metadata": {},
   "source": [
    "For the HDI the \n",
    "- fewer years **measured** (max value of missing data) are: One country provides data for only 3 years it's the Marshall Islands. \n",
    "- fewer years **lacking** (In set of lacking values) are: 4 countries lack five years of HDI data measured  **but**\n",
    "- **be aware that I apply this investigation to the HDI set with missing values**. 189 - 45 countries = **144 countries provide data for all years.**\n",
    "- the median of missing data is 10 years, which is provided by 23 countries<br>\n",
    "\n",
    "**Feel free to uncomment:**"
   ]
  },
  {
   "cell_type": "code",
   "execution_count": 25,
   "id": "a26c7ad9",
   "metadata": {},
   "outputs": [
    {
     "data": {
      "text/plain": [
       "1"
      ]
     },
     "execution_count": 25,
     "metadata": {},
     "output_type": "execute_result"
    }
   ],
   "source": [
    "#hdi_nan[hdi_nan['country'] == hdi_nan['country'].max()]\n",
    "len(hdi_nan[hdi_nan['country'] == hdi_nan['country'].max()])"
   ]
  },
  {
   "cell_type": "code",
   "execution_count": 26,
   "id": "023bcc16",
   "metadata": {},
   "outputs": [
    {
     "data": {
      "text/plain": [
       "4"
      ]
     },
     "execution_count": 26,
     "metadata": {},
     "output_type": "execute_result"
    }
   ],
   "source": [
    "#hdi_nan[hdi_nan['country'] == hdi_nan['country'].min()]\n",
    "len(hdi_nan[hdi_nan['country'] == hdi_nan['country'].min()])"
   ]
  },
  {
   "cell_type": "code",
   "execution_count": 27,
   "id": "8ea61aad",
   "metadata": {},
   "outputs": [
    {
     "data": {
      "text/plain": [
       "23"
      ]
     },
     "execution_count": 27,
     "metadata": {},
     "output_type": "execute_result"
    }
   ],
   "source": [
    "#hdi_nan[hdi_nan['country'] == hdi_nan['country'].median()]\n",
    "len(hdi_nan[hdi_nan['country'] == hdi_nan['country'].median()])"
   ]
  },
  {
   "cell_type": "markdown",
   "id": "6f12b287",
   "metadata": {},
   "source": [
    "From 189 countries, 144 provided data for all years of measurement, which are 30 years. (Cell below). One country provides data for just three years. All in all, there is a mass of consistent data related to HDI. Later on, I will skip a lot of them because I will only keep data from 2005 onward. (Happiness is measured since 2005). But for now, I keep them."
   ]
  },
  {
   "cell_type": "markdown",
   "id": "fe49a054",
   "metadata": {},
   "source": [
    "### 2.10 Preperation of the Gini Set"
   ]
  },
  {
   "cell_type": "code",
   "execution_count": 28,
   "id": "34211487",
   "metadata": {},
   "outputs": [],
   "source": [
    "# Turning data from wide to long format\n",
    "gini_lf = long_format(df_gini, ['country', 'year', 'gini'])"
   ]
  },
  {
   "cell_type": "code",
   "execution_count": 29,
   "id": "e94d248b",
   "metadata": {},
   "outputs": [
    {
     "data": {
      "text/plain": [
       "(168, 1)"
      ]
     },
     "execution_count": 29,
     "metadata": {},
     "output_type": "execute_result"
    }
   ],
   "source": [
    "# Checking for NaN Values\n",
    "gini_nan = group_and_count(gini_lf, 'gini', 'country')\n",
    "gini_nan.shape"
   ]
  },
  {
   "cell_type": "markdown",
   "id": "175b0a66",
   "metadata": {},
   "source": [
    "168 countries out of 168 include at least **one year out of 55 years** with a missing value for the Gini Index."
   ]
  },
  {
   "cell_type": "markdown",
   "id": "55714788",
   "metadata": {},
   "source": [
    "For the Gini coefficient:\n",
    "\n",
    "- the fewer years measured (max value of missing data) are **Nine countries lacking 54 years – which means in fact, that they provide only one year of measurement**<br>\n",
    "- max years measured (min value of missing data): The fewer years missing of Gini data are 19yrs. (Brazil)\n",
    "- and what is the median of years missing? 24 countries lack 48 years of measurement – providing data for just seven years. "
   ]
  },
  {
   "cell_type": "code",
   "execution_count": 30,
   "id": "b4ba1e63",
   "metadata": {},
   "outputs": [
    {
     "data": {
      "text/plain": [
       "55"
      ]
     },
     "execution_count": 30,
     "metadata": {},
     "output_type": "execute_result"
    }
   ],
   "source": [
    "#years (potentially) measured\n",
    "len(df_gini.columns) - 1"
   ]
  },
  {
   "cell_type": "code",
   "execution_count": 31,
   "id": "bcad53be",
   "metadata": {},
   "outputs": [
    {
     "data": {
      "text/plain": [
       "9"
      ]
     },
     "execution_count": 31,
     "metadata": {},
     "output_type": "execute_result"
    }
   ],
   "source": [
    "#gini_nan[gini_nan['country'] == gini_nan['country'].max()]\n",
    "len(gini_nan[gini_nan['country'] == gini_nan['country'].max()])"
   ]
  },
  {
   "cell_type": "code",
   "execution_count": 32,
   "id": "1a174acc",
   "metadata": {
    "scrolled": true
   },
   "outputs": [
    {
     "data": {
      "text/plain": [
       "9"
      ]
     },
     "execution_count": 32,
     "metadata": {},
     "output_type": "execute_result"
    }
   ],
   "source": [
    "#gini_nan[gini_nan['country'] == gini_nan['country'].median()]\n",
    "len(gini_nan[gini_nan['country'] == gini_nan['country'].median()])"
   ]
  },
  {
   "cell_type": "markdown",
   "id": "1eded3db",
   "metadata": {},
   "source": [
    "#### The availability of Gini data is quite unequal"
   ]
  },
  {
   "cell_type": "markdown",
   "id": "b59bb81f",
   "metadata": {},
   "source": [
    "Every country lacks years of available Gini data: <br>\n",
    "- 9 countries are lacking 54 years (The max value for years missing)\n",
    "- 1 country misses 19 years (The min value of missing years)\n",
    "- and 9 countries are missing 48 years – so are providing 55 - 48 = 7 years of data."
   ]
  },
  {
   "cell_type": "markdown",
   "id": "c362f848",
   "metadata": {},
   "source": [
    "## 3. EDA of Happiness \n",
    "Before I investigate the correlation between Happiness Score and HDI and Happiness Score and Gini, I will explore the Happiness Dataframe by itself.\n",
    "\n",
    "As a reminder I will answer the following questions:\n",
    "2. Which is the happiest country in the world since the start of measuring?\n",
    "3. Which is at present the happiest country?\n",
    "4. Which country makes the most progress in terms of Happiness from the first to the last measurement?\n",
    "4. Which country has the most **\"Drama\"** meaning the greatest difference between the highest and the lowest value?"
   ]
  },
  {
   "cell_type": "markdown",
   "id": "3eb6f3db",
   "metadata": {},
   "source": [
    "### 3. 1 Explanation of the metrics used"
   ]
  },
  {
   "cell_type": "markdown",
   "id": "e478fc9d",
   "metadata": {},
   "source": [
    "To gain a better understanding of the datasets I will summarize the data provided for every country into the metrics of descriptive statistics."
   ]
  },
  {
   "cell_type": "markdown",
   "id": "610959af",
   "metadata": {},
   "source": [
    "Replace *data* with the categories (happiness, hdi, gini)\n",
    "\n",
    "***data*_mean**: The mean of the data in question.<br>\n",
    "***data*_max:** The maximum of the data in question.<br>\n",
    "***data*_min:** The minimum of the data in question.<br>\n",
    "***data*_std:** The standard deviation of the data in question.<br>\n",
    "***data*_medi**:The nedian of the data in question.<br>\n",
    "**happy_abs**: The distance between highest and lowest value<br>\n",
    "***data*_first_yr:** The first year of measurement of the data in question.<br>\n",
    "***data*_last_yr:** The last year of measurement of the data in question.<br>\n",
    "***data*_first_value:** Data of the first year<br>\n",
    "***data*_last_value:** Data of the last year.<br>\n",
    "***data*_up:** A boolean value indicating if the data for the last year measured is higher or lower then the first year measured.<br>"
   ]
  },
  {
   "cell_type": "markdown",
   "id": "9e130f74",
   "metadata": {},
   "source": [
    "### 3.2 Preparing the Happiness Data for EDA "
   ]
  },
  {
   "cell_type": "code",
   "execution_count": 33,
   "id": "55a1e8d9",
   "metadata": {},
   "outputs": [],
   "source": [
    "happy_meta = happy_lf.groupby(['country'])['hs'].mean()\n",
    "happy_meta = pd.DataFrame(happy_meta)\n",
    "happy_meta.rename(columns={'hs':'hs_mean'}, inplace=True)\n",
    "happy_meta['happy_max'] = happy_lf.groupby(['country'])['hs'].max()\n",
    "happy_meta['happy_min'] = happy_lf.groupby(['country'])['hs'].min()\n",
    "happy_meta['happy_std'] = happy_lf.groupby(['country'])['hs'].std()\n",
    "happy_meta['happy_medi'] = happy_lf.groupby(['country'])['hs'].median()\n",
    "happy_meta['happy_abs'] = happy_lf.groupby(['country'])['hs'].max() - happy_lf.groupby(['country'])['hs'].min()\n",
    "happy_meta['happy_first_yr'] = happy_lf.groupby(['country'])['year'].first()\n",
    "happy_meta['happy_first_value'] = happy_lf.groupby(['country'])['hs'].first()\n",
    "happy_meta['happy_last_value'] = happy_lf.groupby(['country'])['hs'].last()\n",
    "happy_meta['happy_last_yr'] = happy_lf.groupby(['country'])['year'].last()\n",
    "#This columns is unique to the happiness set. It's a boolean value which is True when the country is happier in the last year of measuremet then in the first year.\n",
    "happy_meta['up']= happy_meta['happy_first_value'] < happy_meta['happy_last_value']\n",
    "\n",
    "#Please uncomment to get a sense for the data:\n",
    "#happy_meta.head(2)"
   ]
  },
  {
   "cell_type": "markdown",
   "id": "9a661375",
   "metadata": {},
   "source": [
    "### <font color='blue'> 3.2 a   The distribution of Happiness </font>"
   ]
  },
  {
   "cell_type": "code",
   "execution_count": 34,
   "id": "15a66625",
   "metadata": {
    "scrolled": true
   },
   "outputs": [
    {
     "data": {
      "text/plain": [
       "<AxesSubplot:title={'center':'Distribution of Happiness based on the Happiness Score'}, ylabel='Frequency'>"
      ]
     },
     "execution_count": 34,
     "metadata": {},
     "output_type": "execute_result"
    },
    {
     "data": {
      "image/png": "[encoded data removed]",
      "text/plain": [
       "<Figure size 432x288 with 1 Axes>"
      ]
     },
     "metadata": {
      "needs_background": "light"
     },
     "output_type": "display_data"
    }
   ],
   "source": [
    "happy_lf.plot(kind=\"hist\", grid=True, title=\"Distribution of Happiness based on the Happiness Score\")"
   ]
  },
  {
   "cell_type": "markdown",
   "id": "13cc3df2",
   "metadata": {},
   "source": [
    "<font color='blue'>Happiness Scores around 47 to 52 a are measured for the majority of years for 90 countries. Only 18 countries experiences Happiness between 74 and 80</font>"
   ]
  },
  {
   "cell_type": "code",
   "execution_count": 44,
   "id": "5ff23e63",
   "metadata": {},
   "outputs": [
    {
     "data": {
      "text/plain": [
       "90"
      ]
     },
     "execution_count": 44,
     "metadata": {},
     "output_type": "execute_result"
    }
   ],
   "source": [
    "#How many countries are in the highest Happyness bin?\n",
    "mask = (happy_lf['hs'] >= 47) & (happy_lf['hs'] <= 52)\n",
    "happy_lf[mask]['country'].nunique()"
   ]
  },
  {
   "cell_type": "code",
   "execution_count": 46,
   "id": "36bf62f6",
   "metadata": {},
   "outputs": [
    {
     "data": {
      "text/plain": [
       "18"
      ]
     },
     "execution_count": 46,
     "metadata": {},
     "output_type": "execute_result"
    }
   ],
   "source": [
    "#How many countries are in the best ranking happines bin (between around 74 and 80)\n",
    "mask = (happy_lf['hs'] >= 74) & (happy_lf['hs'] <= 80)\n",
    "happy_lf[mask]['country'].nunique()"
   ]
  },
  {
   "cell_type": "markdown",
   "id": "fa047ef4",
   "metadata": {},
   "source": [
    "### 3.3 Happier or less happy?"
   ]
  },
  {
   "cell_type": "markdown",
   "id": "5e321ec8",
   "metadata": {},
   "source": [
    "To see which countries are happier now then at the start of measurement I simply apply a boolean mask on the 'up' columns wich could be True or False"
   ]
  },
  {
   "cell_type": "code",
   "execution_count": 37,
   "id": "242f9d29",
   "metadata": {},
   "outputs": [
    {
     "data": {
      "text/plain": [
       "(91, 11)"
      ]
     },
     "execution_count": 37,
     "metadata": {},
     "output_type": "execute_result"
    }
   ],
   "source": [
    "happy_meta['up']= happy_meta['happy_first_value'] < happy_meta['happy_last_value']\n",
    "happy_meta[happy_meta['up'] == True].shape"
   ]
  },
  {
   "cell_type": "markdown",
   "id": "9991484a",
   "metadata": {},
   "source": [
    "Many countries are progressing in terms of the Happiness Score. But there are 163 - 91 = 72 which don't.<br>\n",
    "### 3. 4 Which countries are less happier at last measurement then at first measurement? "
   ]
  },
  {
   "cell_type": "code",
   "execution_count": 38,
   "id": "63fb4a10",
   "metadata": {},
   "outputs": [],
   "source": [
    "happy_meta_down = happy_meta[happy_meta['up'] == False]\n",
    "#happy_meta_down.index.tolist()"
   ]
  },
  {
   "cell_type": "markdown",
   "id": "b5c4c66d",
   "metadata": {},
   "source": [
    "### 3. 5 Which country holds the all time \"high\" in terms of Happiness Score?"
   ]
  },
  {
   "cell_type": "code",
   "execution_count": 39,
   "id": "c2ce757c",
   "metadata": {},
   "outputs": [
    {
     "data": {
      "text/html": [
       "<div>\n",
       "<style scoped>\n",
       "    .dataframe tbody tr th:only-of-type {\n",
       "        vertical-align: middle;\n",
       "    }\n",
       "\n",
       "    .dataframe tbody tr th {\n",
       "        vertical-align: top;\n",
       "    }\n",
       "\n",
       "    .dataframe thead th {\n",
       "        text-align: right;\n",
       "    }\n",
       "</style>\n",
       "<table border=\"1\" class=\"dataframe\">\n",
       "  <thead>\n",
       "    <tr style=\"text-align: right;\">\n",
       "      <th></th>\n",
       "      <th>hs_mean</th>\n",
       "      <th>happy_max</th>\n",
       "      <th>happy_min</th>\n",
       "      <th>happy_std</th>\n",
       "      <th>happy_medi</th>\n",
       "      <th>happy_abs</th>\n",
       "      <th>happy_first_yr</th>\n",
       "      <th>happy_first_value</th>\n",
       "      <th>happy_last_value</th>\n",
       "      <th>happy_last_yr</th>\n",
       "      <th>up</th>\n",
       "    </tr>\n",
       "    <tr>\n",
       "      <th>country</th>\n",
       "      <th></th>\n",
       "      <th></th>\n",
       "      <th></th>\n",
       "      <th></th>\n",
       "      <th></th>\n",
       "      <th></th>\n",
       "      <th></th>\n",
       "      <th></th>\n",
       "      <th></th>\n",
       "      <th></th>\n",
       "      <th></th>\n",
       "    </tr>\n",
       "  </thead>\n",
       "  <tbody>\n",
       "    <tr>\n",
       "      <th>Denmark</th>\n",
       "      <td>76.775</td>\n",
       "      <td>80.2</td>\n",
       "      <td>75.1</td>\n",
       "      <td>1.601041</td>\n",
       "      <td>76.45</td>\n",
       "      <td>5.1</td>\n",
       "      <td>2005</td>\n",
       "      <td>80.2</td>\n",
       "      <td>76.4</td>\n",
       "      <td>2021</td>\n",
       "      <td>False</td>\n",
       "    </tr>\n",
       "  </tbody>\n",
       "</table>\n",
       "</div>"
      ],
      "text/plain": [
       "         hs_mean  happy_max  happy_min  happy_std  happy_medi  happy_abs  \\\n",
       "country                                                                    \n",
       "Denmark   76.775       80.2       75.1   1.601041       76.45        5.1   \n",
       "\n",
       "        happy_first_yr  happy_first_value  happy_last_value happy_last_yr  \\\n",
       "country                                                                     \n",
       "Denmark           2005               80.2              76.4          2021   \n",
       "\n",
       "            up  \n",
       "country         \n",
       "Denmark  False  "
      ]
     },
     "execution_count": 39,
     "metadata": {},
     "output_type": "execute_result"
    }
   ],
   "source": [
    "happy_max_val = happy_meta['happy_max'].max()\n",
    "happy_meta[happy_meta['happy_max'] == happy_max_val]"
   ]
  },
  {
   "cell_type": "code",
   "execution_count": 40,
   "id": "c34425f8",
   "metadata": {},
   "outputs": [
    {
     "data": {
      "text/plain": [
       "<AxesSubplot:title={'center':'Happiness Score for Denmark'}, xlabel='year', ylabel='Happiness Score'>"
      ]
     },
     "execution_count": 40,
     "metadata": {},
     "output_type": "execute_result"
    },
    {
     "data": {
      "image/png": "[encoded data removed]",
      "text/plain": [
       "<Figure size 432x288 with 1 Axes>"
      ]
     },
     "metadata": {
      "needs_background": "light"
     },
     "output_type": "display_data"
    }
   ],
   "source": [
    "happy_lf[happy_lf['country'] == 'Denmark'].plot(x ='year', xlabel='year', y ='hs', grid=True, ylabel='Happiness Score', kind='line', title=\"Happiness Score for Denmark\")"
   ]
  },
  {
   "cell_type": "markdown",
   "id": "9115d929",
   "metadata": {},
   "source": [
    "Denmark surpass all other countries which provides data for Happiness Score with 80.2 in 2008"
   ]
  },
  {
   "cell_type": "markdown",
   "id": "cd406d73",
   "metadata": {},
   "source": [
    "### 3. 6 Which country is the happiest in the world now?"
   ]
  },
  {
   "cell_type": "code",
   "execution_count": 41,
   "id": "8bd37d98",
   "metadata": {},
   "outputs": [
    {
     "data": {
      "text/html": [
       "<div>\n",
       "<style scoped>\n",
       "    .dataframe tbody tr th:only-of-type {\n",
       "        vertical-align: middle;\n",
       "    }\n",
       "\n",
       "    .dataframe tbody tr th {\n",
       "        vertical-align: top;\n",
       "    }\n",
       "\n",
       "    .dataframe thead th {\n",
       "        text-align: right;\n",
       "    }\n",
       "</style>\n",
       "<table border=\"1\" class=\"dataframe\">\n",
       "  <thead>\n",
       "    <tr style=\"text-align: right;\">\n",
       "      <th></th>\n",
       "      <th>hs_mean</th>\n",
       "      <th>happy_max</th>\n",
       "      <th>happy_min</th>\n",
       "      <th>happy_std</th>\n",
       "      <th>happy_medi</th>\n",
       "      <th>happy_abs</th>\n",
       "      <th>happy_first_yr</th>\n",
       "      <th>happy_first_value</th>\n",
       "      <th>happy_last_value</th>\n",
       "      <th>happy_last_yr</th>\n",
       "      <th>up</th>\n",
       "    </tr>\n",
       "    <tr>\n",
       "      <th>country</th>\n",
       "      <th></th>\n",
       "      <th></th>\n",
       "      <th></th>\n",
       "      <th></th>\n",
       "      <th></th>\n",
       "      <th></th>\n",
       "      <th></th>\n",
       "      <th></th>\n",
       "      <th></th>\n",
       "      <th></th>\n",
       "      <th></th>\n",
       "    </tr>\n",
       "  </thead>\n",
       "  <tbody>\n",
       "    <tr>\n",
       "      <th>Finland</th>\n",
       "      <td>76.128571</td>\n",
       "      <td>78.9</td>\n",
       "      <td>73.5</td>\n",
       "      <td>1.984722</td>\n",
       "      <td>76.65</td>\n",
       "      <td>5.4</td>\n",
       "      <td>2005</td>\n",
       "      <td>76.7</td>\n",
       "      <td>78.2</td>\n",
       "      <td>2021</td>\n",
       "      <td>True</td>\n",
       "    </tr>\n",
       "  </tbody>\n",
       "</table>\n",
       "</div>"
      ],
      "text/plain": [
       "           hs_mean  happy_max  happy_min  happy_std  happy_medi  happy_abs  \\\n",
       "country                                                                      \n",
       "Finland  76.128571       78.9       73.5   1.984722       76.65        5.4   \n",
       "\n",
       "        happy_first_yr  happy_first_value  happy_last_value happy_last_yr  \\\n",
       "country                                                                     \n",
       "Finland           2005               76.7              78.2          2021   \n",
       "\n",
       "           up  \n",
       "country        \n",
       "Finland  True  "
      ]
     },
     "execution_count": 41,
     "metadata": {},
     "output_type": "execute_result"
    }
   ],
   "source": [
    "happy_max_last_val = happy_meta['happy_last_value'].max()\n",
    "happy_meta[happy_meta['happy_last_value'] == happy_max_last_val]"
   ]
  },
  {
   "cell_type": "code",
   "execution_count": 42,
   "id": "9017e643",
   "metadata": {},
   "outputs": [
    {
     "data": {
      "text/plain": [
       "<AxesSubplot:title={'center':'Happiness Score for Finland'}, xlabel='year', ylabel='Happiness Score'>"
      ]
     },
     "execution_count": 42,
     "metadata": {},
     "output_type": "execute_result"
    },
    {
     "data": {
      "image/png": "[encoded data removed]",
      "text/plain": [
       "<Figure size 432x288 with 1 Axes>"
      ]
     },
     "metadata": {
      "needs_background": "light"
     },
     "output_type": "display_data"
    }
   ],
   "source": [
    "happy_lf[happy_lf['country'] == 'Finland'].plot(x ='year', xlabel='year', y ='hs', grid=True, ylabel='Happiness Score', kind='line', title=\"Happiness Score for Finland\")"
   ]
  },
  {
   "cell_type": "markdown",
   "id": "adf28358",
   "metadata": {},
   "source": [
    "With a score of 78.2 Finland is happier then all other countries. However Finlands' population used to be happier in 2020 and in 2018."
   ]
  },
  {
   "cell_type": "code",
   "execution_count": 43,
   "id": "026a2cbb",
   "metadata": {
    "scrolled": true
   },
   "outputs": [
    {
     "data": {
      "text/html": [
       "<div>\n",
       "<style scoped>\n",
       "    .dataframe tbody tr th:only-of-type {\n",
       "        vertical-align: middle;\n",
       "    }\n",
       "\n",
       "    .dataframe tbody tr th {\n",
       "        vertical-align: top;\n",
       "    }\n",
       "\n",
       "    .dataframe thead th {\n",
       "        text-align: right;\n",
       "    }\n",
       "</style>\n",
       "<table border=\"1\" class=\"dataframe\">\n",
       "  <thead>\n",
       "    <tr style=\"text-align: right;\">\n",
       "      <th></th>\n",
       "      <th>year</th>\n",
       "      <th>country</th>\n",
       "      <th>hs</th>\n",
       "    </tr>\n",
       "  </thead>\n",
       "  <tbody>\n",
       "    <tr>\n",
       "      <th>680</th>\n",
       "      <td>2005</td>\n",
       "      <td>Denmark</td>\n",
       "      <td>80.2</td>\n",
       "    </tr>\n",
       "    <tr>\n",
       "      <th>682</th>\n",
       "      <td>2007</td>\n",
       "      <td>Denmark</td>\n",
       "      <td>78.3</td>\n",
       "    </tr>\n",
       "    <tr>\n",
       "      <th>683</th>\n",
       "      <td>2008</td>\n",
       "      <td>Denmark</td>\n",
       "      <td>79.7</td>\n",
       "    </tr>\n",
       "    <tr>\n",
       "      <th>846</th>\n",
       "      <td>2018</td>\n",
       "      <td>Finland</td>\n",
       "      <td>78.6</td>\n",
       "    </tr>\n",
       "    <tr>\n",
       "      <th>848</th>\n",
       "      <td>2020</td>\n",
       "      <td>Finland</td>\n",
       "      <td>78.9</td>\n",
       "    </tr>\n",
       "    <tr>\n",
       "      <th>849</th>\n",
       "      <td>2021</td>\n",
       "      <td>Finland</td>\n",
       "      <td>78.2</td>\n",
       "    </tr>\n",
       "  </tbody>\n",
       "</table>\n",
       "</div>"
      ],
      "text/plain": [
       "     year  country    hs\n",
       "680  2005  Denmark  80.2\n",
       "682  2007  Denmark  78.3\n",
       "683  2008  Denmark  79.7\n",
       "846  2018  Finland  78.6\n",
       "848  2020  Finland  78.9\n",
       "849  2021  Finland  78.2"
      ]
     },
     "execution_count": 43,
     "metadata": {},
     "output_type": "execute_result"
    }
   ],
   "source": [
    "happy_lf[happy_lf['hs'] >= 78.2]"
   ]
  },
  {
   "cell_type": "markdown",
   "id": "0aa55663",
   "metadata": {},
   "source": [
    "Denmark and Finland are regularly the **World Happiness Champions**. But what about Norway and Sweden? Both are Scandinavian countries too. (In fact, Finland does not really count as a Scandinavian country due to their language family which is not Scandinavian)"
   ]
  },
  {
   "cell_type": "markdown",
   "id": "59f5e6c4",
   "metadata": {},
   "source": [
    "###  <font color='green'> 3.7 Excursus: Are Scandinavians generally happier people?<font> ####"
   ]
  },
  {
   "cell_type": "code",
   "execution_count": 44,
   "id": "a295df70",
   "metadata": {},
   "outputs": [
    {
     "data": {
      "text/plain": [
       "<AxesSubplot:title={'center':'Happiness Score for Norway'}, xlabel='year', ylabel='Happiness Score'>"
      ]
     },
     "execution_count": 44,
     "metadata": {},
     "output_type": "execute_result"
    },
    {
     "data": {
      "image/png": "[encoded data removed]",
      "text/plain": [
       "<Figure size 432x288 with 1 Axes>"
      ]
     },
     "metadata": {
      "needs_background": "light"
     },
     "output_type": "display_data"
    }
   ],
   "source": [
    "happy_lf[happy_lf['country'] == 'Norway'].plot(x ='year', xlabel='year', y ='hs', grid=True, ylabel='Happiness Score', kind='line', title=\"Happiness Score for Norway\")"
   ]
  },
  {
   "cell_type": "code",
   "execution_count": 45,
   "id": "b818af0f",
   "metadata": {
    "scrolled": true
   },
   "outputs": [
    {
     "data": {
      "text/plain": [
       "<AxesSubplot:title={'center':'Happiness Score for Sweden'}, xlabel='year', ylabel='Happiness Score'>"
      ]
     },
     "execution_count": 45,
     "metadata": {},
     "output_type": "execute_result"
    },
    {
     "data": {
      "image/png": "[encoded data removed]",
      "text/plain": [
       "<Figure size 432x288 with 1 Axes>"
      ]
     },
     "metadata": {
      "needs_background": "light"
     },
     "output_type": "display_data"
    }
   ],
   "source": [
    "happy_lf[happy_lf['country'] == 'Sweden'].plot(x ='year', xlabel='year', y ='hs', grid=True, ylabel='Happiness Score', kind='line', title=\"Happiness Score for Sweden\")"
   ]
  },
  {
   "cell_type": "markdown",
   "id": "2701b5d1",
   "metadata": {},
   "source": [
    "Norway provides data since 2014 and Sweden since 2007. With the last values measured in 2021 at around 73 points, the population of these countries is at least 3 points less happier than the Danish population in 2021 and 5 points less happy than Finland's population in the same year. "
   ]
  },
  {
   "cell_type": "markdown",
   "id": "71f08cfa",
   "metadata": {},
   "source": [
    "The mean values for Happiness Score in Norway and Sweden are:"
   ]
  },
  {
   "cell_type": "code",
   "execution_count": 46,
   "id": "b89e41d1",
   "metadata": {},
   "outputs": [
    {
     "name": "stdout",
     "output_type": "stream",
     "text": [
      "Mean value for Happiness Score in Norway is: 74.99090909090908\n"
     ]
    }
   ],
   "source": [
    "print(f\"Mean value for Happiness Score in Norway is: {happy_meta.loc['Norway']['hs_mean']}\")"
   ]
  },
  {
   "cell_type": "code",
   "execution_count": 47,
   "id": "7d82c1ce",
   "metadata": {},
   "outputs": [
    {
     "name": "stdout",
     "output_type": "stream",
     "text": [
      "Mean value for Happiness Score in Sweden is: 73.7125\n"
     ]
    }
   ],
   "source": [
    "print(f\"Mean value for Happiness Score in Sweden is: {happy_meta.loc['Sweden']['hs_mean']}\")"
   ]
  },
  {
   "cell_type": "markdown",
   "id": "b35fb302",
   "metadata": {},
   "source": [
    "### 3.8 Top 10 of Happy Nations"
   ]
  },
  {
   "cell_type": "code",
   "execution_count": 48,
   "id": "c19ef60e",
   "metadata": {},
   "outputs": [
    {
     "data": {
      "text/html": [
       "<div>\n",
       "<style scoped>\n",
       "    .dataframe tbody tr th:only-of-type {\n",
       "        vertical-align: middle;\n",
       "    }\n",
       "\n",
       "    .dataframe tbody tr th {\n",
       "        vertical-align: top;\n",
       "    }\n",
       "\n",
       "    .dataframe thead th {\n",
       "        text-align: right;\n",
       "    }\n",
       "</style>\n",
       "<table border=\"1\" class=\"dataframe\">\n",
       "  <thead>\n",
       "    <tr style=\"text-align: right;\">\n",
       "      <th></th>\n",
       "      <th>hs_mean</th>\n",
       "      <th>happy_max</th>\n",
       "      <th>happy_min</th>\n",
       "      <th>happy_std</th>\n",
       "      <th>happy_medi</th>\n",
       "      <th>happy_abs</th>\n",
       "      <th>happy_first_yr</th>\n",
       "      <th>happy_first_value</th>\n",
       "      <th>happy_last_value</th>\n",
       "      <th>happy_last_yr</th>\n",
       "      <th>up</th>\n",
       "    </tr>\n",
       "    <tr>\n",
       "      <th>country</th>\n",
       "      <th></th>\n",
       "      <th></th>\n",
       "      <th></th>\n",
       "      <th></th>\n",
       "      <th></th>\n",
       "      <th></th>\n",
       "      <th></th>\n",
       "      <th></th>\n",
       "      <th></th>\n",
       "      <th></th>\n",
       "      <th></th>\n",
       "    </tr>\n",
       "  </thead>\n",
       "  <tbody>\n",
       "    <tr>\n",
       "      <th>Denmark</th>\n",
       "      <td>76.775000</td>\n",
       "      <td>80.2</td>\n",
       "      <td>75.1</td>\n",
       "      <td>1.601041</td>\n",
       "      <td>76.45</td>\n",
       "      <td>5.1</td>\n",
       "      <td>2005</td>\n",
       "      <td>80.2</td>\n",
       "      <td>76.4</td>\n",
       "      <td>2021</td>\n",
       "      <td>False</td>\n",
       "    </tr>\n",
       "    <tr>\n",
       "      <th>Finland</th>\n",
       "      <td>76.128571</td>\n",
       "      <td>78.9</td>\n",
       "      <td>73.5</td>\n",
       "      <td>1.984722</td>\n",
       "      <td>76.65</td>\n",
       "      <td>5.4</td>\n",
       "      <td>2005</td>\n",
       "      <td>76.7</td>\n",
       "      <td>78.2</td>\n",
       "      <td>2021</td>\n",
       "      <td>True</td>\n",
       "    </tr>\n",
       "    <tr>\n",
       "      <th>Switzerland</th>\n",
       "      <td>75.445455</td>\n",
       "      <td>77.8</td>\n",
       "      <td>74.6</td>\n",
       "      <td>1.011300</td>\n",
       "      <td>75.10</td>\n",
       "      <td>3.2</td>\n",
       "      <td>2005</td>\n",
       "      <td>74.7</td>\n",
       "      <td>75.1</td>\n",
       "      <td>2021</td>\n",
       "      <td>True</td>\n",
       "    </tr>\n",
       "    <tr>\n",
       "      <th>Norway</th>\n",
       "      <td>74.990909</td>\n",
       "      <td>76.8</td>\n",
       "      <td>72.9</td>\n",
       "      <td>1.240528</td>\n",
       "      <td>74.40</td>\n",
       "      <td>3.9</td>\n",
       "      <td>2005</td>\n",
       "      <td>74.2</td>\n",
       "      <td>73.7</td>\n",
       "      <td>2021</td>\n",
       "      <td>False</td>\n",
       "    </tr>\n",
       "    <tr>\n",
       "      <th>Netherlands</th>\n",
       "      <td>74.620000</td>\n",
       "      <td>76.3</td>\n",
       "      <td>73.2</td>\n",
       "      <td>0.814336</td>\n",
       "      <td>74.60</td>\n",
       "      <td>3.1</td>\n",
       "      <td>2005</td>\n",
       "      <td>74.6</td>\n",
       "      <td>74.2</td>\n",
       "      <td>2021</td>\n",
       "      <td>False</td>\n",
       "    </tr>\n",
       "    <tr>\n",
       "      <th>Iceland</th>\n",
       "      <td>74.600000</td>\n",
       "      <td>75.9</td>\n",
       "      <td>68.9</td>\n",
       "      <td>2.171405</td>\n",
       "      <td>75.10</td>\n",
       "      <td>7.0</td>\n",
       "      <td>2005</td>\n",
       "      <td>68.9</td>\n",
       "      <td>75.6</td>\n",
       "      <td>2021</td>\n",
       "      <td>True</td>\n",
       "    </tr>\n",
       "    <tr>\n",
       "      <th>Sweden</th>\n",
       "      <td>73.712500</td>\n",
       "      <td>75.6</td>\n",
       "      <td>72.4</td>\n",
       "      <td>0.968074</td>\n",
       "      <td>73.80</td>\n",
       "      <td>3.2</td>\n",
       "      <td>2005</td>\n",
       "      <td>73.8</td>\n",
       "      <td>73.8</td>\n",
       "      <td>2021</td>\n",
       "      <td>False</td>\n",
       "    </tr>\n",
       "    <tr>\n",
       "      <th>Canada</th>\n",
       "      <td>73.562500</td>\n",
       "      <td>76.5</td>\n",
       "      <td>70.3</td>\n",
       "      <td>1.882507</td>\n",
       "      <td>74.20</td>\n",
       "      <td>6.2</td>\n",
       "      <td>2005</td>\n",
       "      <td>74.2</td>\n",
       "      <td>70.3</td>\n",
       "      <td>2021</td>\n",
       "      <td>False</td>\n",
       "    </tr>\n",
       "    <tr>\n",
       "      <th>New Zealand</th>\n",
       "      <td>73.026667</td>\n",
       "      <td>76.0</td>\n",
       "      <td>71.9</td>\n",
       "      <td>1.083952</td>\n",
       "      <td>72.80</td>\n",
       "      <td>4.1</td>\n",
       "      <td>2005</td>\n",
       "      <td>73.0</td>\n",
       "      <td>72.0</td>\n",
       "      <td>2021</td>\n",
       "      <td>False</td>\n",
       "    </tr>\n",
       "    <tr>\n",
       "      <th>Australia</th>\n",
       "      <td>72.740000</td>\n",
       "      <td>74.5</td>\n",
       "      <td>71.4</td>\n",
       "      <td>0.891868</td>\n",
       "      <td>72.60</td>\n",
       "      <td>3.1</td>\n",
       "      <td>2005</td>\n",
       "      <td>73.4</td>\n",
       "      <td>71.6</td>\n",
       "      <td>2021</td>\n",
       "      <td>False</td>\n",
       "    </tr>\n",
       "  </tbody>\n",
       "</table>\n",
       "</div>"
      ],
      "text/plain": [
       "               hs_mean  happy_max  happy_min  happy_std  happy_medi  \\\n",
       "country                                                               \n",
       "Denmark      76.775000       80.2       75.1   1.601041       76.45   \n",
       "Finland      76.128571       78.9       73.5   1.984722       76.65   \n",
       "Switzerland  75.445455       77.8       74.6   1.011300       75.10   \n",
       "Norway       74.990909       76.8       72.9   1.240528       74.40   \n",
       "Netherlands  74.620000       76.3       73.2   0.814336       74.60   \n",
       "Iceland      74.600000       75.9       68.9   2.171405       75.10   \n",
       "Sweden       73.712500       75.6       72.4   0.968074       73.80   \n",
       "Canada       73.562500       76.5       70.3   1.882507       74.20   \n",
       "New Zealand  73.026667       76.0       71.9   1.083952       72.80   \n",
       "Australia    72.740000       74.5       71.4   0.891868       72.60   \n",
       "\n",
       "             happy_abs happy_first_yr  happy_first_value  happy_last_value  \\\n",
       "country                                                                      \n",
       "Denmark            5.1           2005               80.2              76.4   \n",
       "Finland            5.4           2005               76.7              78.2   \n",
       "Switzerland        3.2           2005               74.7              75.1   \n",
       "Norway             3.9           2005               74.2              73.7   \n",
       "Netherlands        3.1           2005               74.6              74.2   \n",
       "Iceland            7.0           2005               68.9              75.6   \n",
       "Sweden             3.2           2005               73.8              73.8   \n",
       "Canada             6.2           2005               74.2              70.3   \n",
       "New Zealand        4.1           2005               73.0              72.0   \n",
       "Australia          3.1           2005               73.4              71.6   \n",
       "\n",
       "            happy_last_yr     up  \n",
       "country                           \n",
       "Denmark              2021  False  \n",
       "Finland              2021   True  \n",
       "Switzerland          2021   True  \n",
       "Norway               2021  False  \n",
       "Netherlands          2021  False  \n",
       "Iceland              2021   True  \n",
       "Sweden               2021  False  \n",
       "Canada               2021  False  \n",
       "New Zealand          2021  False  \n",
       "Australia            2021  False  "
      ]
     },
     "execution_count": 48,
     "metadata": {},
     "output_type": "execute_result"
    }
   ],
   "source": [
    "happy_meta.sort_values(by=['hs_mean'], ascending=False).head(10)"
   ]
  },
  {
   "cell_type": "markdown",
   "id": "874cfac3",
   "metadata": {},
   "source": [
    "### <font color=\"green\">3.9 Conclusion Excursus:</font> ###\n",
    "\n",
    "**So the cliché of \"ever happy Scandinavians\" is true.** Finland and Denmark are regularly Happiness World Champions and Norway and Sweden with mean values for Happiness between 73.5 and nearly 75 are ranking quite high."
   ]
  },
  {
   "cell_type": "markdown",
   "id": "c63fe490",
   "metadata": {},
   "source": [
    "### 3. 10 Which country has developed the most regarding HS from first to last value? ###"
   ]
  },
  {
   "cell_type": "markdown",
   "id": "badc6223",
   "metadata": {},
   "source": [
    "I prepare a dataset with only those countries included that performs better in the last year measured than in the first year. (['up'] == True)"
   ]
  },
  {
   "cell_type": "code",
   "execution_count": 49,
   "id": "595023e9",
   "metadata": {},
   "outputs": [],
   "source": [
    "happy_up_meta = happy_meta[happy_meta['up'] == True]"
   ]
  },
  {
   "cell_type": "markdown",
   "id": "8aad623d",
   "metadata": {},
   "source": [
    "I add a new column to this dataset *happy_span_first_last* which contains the difference for the HS between **first and last measurement**: the larger the difference, the higher the gain of subjective Happiness of the population.  "
   ]
  },
  {
   "cell_type": "code",
   "execution_count": 50,
   "id": "138e63a2",
   "metadata": {},
   "outputs": [
    {
     "name": "stderr",
     "output_type": "stream",
     "text": [
      "/var/folders/dc/_s98zrpj4d36j7wcmn71r63m0000gn/T/ipykernel_13289/1879171577.py:1: SettingWithCopyWarning: \n",
      "A value is trying to be set on a copy of a slice from a DataFrame.\n",
      "Try using .loc[row_indexer,col_indexer] = value instead\n",
      "\n",
      "See the caveats in the documentation: https://pandas.pydata.org/pandas-docs/stable/user_guide/indexing.html#returning-a-view-versus-a-copy\n",
      "  happy_up_meta['happy_span_first_last'] = happy_up_meta['happy_last_value'] - happy_up_meta['happy_first_value']\n"
     ]
    },
    {
     "data": {
      "text/html": [
       "<div>\n",
       "<style scoped>\n",
       "    .dataframe tbody tr th:only-of-type {\n",
       "        vertical-align: middle;\n",
       "    }\n",
       "\n",
       "    .dataframe tbody tr th {\n",
       "        vertical-align: top;\n",
       "    }\n",
       "\n",
       "    .dataframe thead th {\n",
       "        text-align: right;\n",
       "    }\n",
       "</style>\n",
       "<table border=\"1\" class=\"dataframe\">\n",
       "  <thead>\n",
       "    <tr style=\"text-align: right;\">\n",
       "      <th></th>\n",
       "      <th>hs_mean</th>\n",
       "      <th>happy_max</th>\n",
       "      <th>happy_min</th>\n",
       "      <th>happy_std</th>\n",
       "      <th>happy_medi</th>\n",
       "      <th>happy_abs</th>\n",
       "      <th>happy_first_yr</th>\n",
       "      <th>happy_first_value</th>\n",
       "      <th>happy_last_value</th>\n",
       "      <th>happy_last_yr</th>\n",
       "      <th>up</th>\n",
       "      <th>happy_span_first_last</th>\n",
       "    </tr>\n",
       "    <tr>\n",
       "      <th>country</th>\n",
       "      <th></th>\n",
       "      <th></th>\n",
       "      <th></th>\n",
       "      <th></th>\n",
       "      <th></th>\n",
       "      <th></th>\n",
       "      <th></th>\n",
       "      <th></th>\n",
       "      <th></th>\n",
       "      <th></th>\n",
       "      <th></th>\n",
       "      <th></th>\n",
       "    </tr>\n",
       "  </thead>\n",
       "  <tbody>\n",
       "    <tr>\n",
       "      <th>Nicaragua</th>\n",
       "      <td>56.62</td>\n",
       "      <td>64.8</td>\n",
       "      <td>44.6</td>\n",
       "      <td>5.492228</td>\n",
       "      <td>57.7</td>\n",
       "      <td>20.2</td>\n",
       "      <td>2005</td>\n",
       "      <td>44.6</td>\n",
       "      <td>61.6</td>\n",
       "      <td>2021</td>\n",
       "      <td>True</td>\n",
       "      <td>17.0</td>\n",
       "    </tr>\n",
       "  </tbody>\n",
       "</table>\n",
       "</div>"
      ],
      "text/plain": [
       "           hs_mean  happy_max  happy_min  happy_std  happy_medi  happy_abs  \\\n",
       "country                                                                      \n",
       "Nicaragua    56.62       64.8       44.6   5.492228        57.7       20.2   \n",
       "\n",
       "          happy_first_yr  happy_first_value  happy_last_value happy_last_yr  \\\n",
       "country                                                                       \n",
       "Nicaragua           2005               44.6              61.6          2021   \n",
       "\n",
       "             up  happy_span_first_last  \n",
       "country                                 \n",
       "Nicaragua  True                   17.0  "
      ]
     },
     "execution_count": 50,
     "metadata": {},
     "output_type": "execute_result"
    }
   ],
   "source": [
    "happy_up_meta['happy_span_first_last'] = happy_up_meta['happy_last_value'] - happy_up_meta['happy_first_value']\n",
    "happy_span_max = happy_up_meta['happy_span_first_last'].max()\n",
    "happy_up_meta[happy_up_meta['happy_span_first_last'] == happy_span_max]"
   ]
  },
  {
   "cell_type": "code",
   "execution_count": 51,
   "id": "6b64556b",
   "metadata": {},
   "outputs": [
    {
     "data": {
      "text/plain": [
       "<AxesSubplot:title={'center':'Happiness Score for Nicaragua'}, xlabel='year', ylabel='Happiness Score'>"
      ]
     },
     "execution_count": 51,
     "metadata": {},
     "output_type": "execute_result"
    },
    {
     "data": {
      "image/png": "[encoded data removed]",
      "text/plain": [
       "<Figure size 432x288 with 1 Axes>"
      ]
     },
     "metadata": {
      "needs_background": "light"
     },
     "output_type": "display_data"
    }
   ],
   "source": [
    "happy_lf[happy_lf['country'] == 'Nicaragua'].plot(x ='year', xlabel='year', y ='hs', grid=True, ylabel='Happiness Score', kind='line', title=\"Happiness Score for Nicaragua\")"
   ]
  },
  {
   "cell_type": "markdown",
   "id": "aea53d63",
   "metadata": {},
   "source": [
    "This is remarkable: The happiness of the Nicaraguan people improves until last year measured (2019) by around 17 points. **Here a furthermore country-specific investigation could be interesting.**"
   ]
  },
  {
   "cell_type": "markdown",
   "id": "4f00563b",
   "metadata": {},
   "source": [
    "### 3. 11 Which country has the largest difference from lowest to highest value? *(\"Drama\")*  "
   ]
  },
  {
   "cell_type": "markdown",
   "id": "58eedff7",
   "metadata": {},
   "source": [
    "Which country has the greatest difference between **highest and lowest value** mesdured?  "
   ]
  },
  {
   "cell_type": "code",
   "execution_count": 52,
   "id": "de990e85",
   "metadata": {},
   "outputs": [
    {
     "data": {
      "text/html": [
       "<div>\n",
       "<style scoped>\n",
       "    .dataframe tbody tr th:only-of-type {\n",
       "        vertical-align: middle;\n",
       "    }\n",
       "\n",
       "    .dataframe tbody tr th {\n",
       "        vertical-align: top;\n",
       "    }\n",
       "\n",
       "    .dataframe thead th {\n",
       "        text-align: right;\n",
       "    }\n",
       "</style>\n",
       "<table border=\"1\" class=\"dataframe\">\n",
       "  <thead>\n",
       "    <tr style=\"text-align: right;\">\n",
       "      <th></th>\n",
       "      <th>hs_mean</th>\n",
       "      <th>happy_max</th>\n",
       "      <th>happy_min</th>\n",
       "      <th>happy_std</th>\n",
       "      <th>happy_medi</th>\n",
       "      <th>happy_abs</th>\n",
       "      <th>happy_first_yr</th>\n",
       "      <th>happy_first_value</th>\n",
       "      <th>happy_last_value</th>\n",
       "      <th>happy_last_yr</th>\n",
       "      <th>up</th>\n",
       "    </tr>\n",
       "    <tr>\n",
       "      <th>country</th>\n",
       "      <th></th>\n",
       "      <th></th>\n",
       "      <th></th>\n",
       "      <th></th>\n",
       "      <th></th>\n",
       "      <th></th>\n",
       "      <th></th>\n",
       "      <th></th>\n",
       "      <th></th>\n",
       "      <th></th>\n",
       "      <th></th>\n",
       "    </tr>\n",
       "  </thead>\n",
       "  <tbody>\n",
       "    <tr>\n",
       "      <th>Venezuela</th>\n",
       "      <td>59.525</td>\n",
       "      <td>74.8</td>\n",
       "      <td>40.4</td>\n",
       "      <td>10.645469</td>\n",
       "      <td>62.0</td>\n",
       "      <td>34.4</td>\n",
       "      <td>2005</td>\n",
       "      <td>71.7</td>\n",
       "      <td>49.3</td>\n",
       "      <td>2021</td>\n",
       "      <td>False</td>\n",
       "    </tr>\n",
       "  </tbody>\n",
       "</table>\n",
       "</div>"
      ],
      "text/plain": [
       "           hs_mean  happy_max  happy_min  happy_std  happy_medi  happy_abs  \\\n",
       "country                                                                      \n",
       "Venezuela   59.525       74.8       40.4  10.645469        62.0       34.4   \n",
       "\n",
       "          happy_first_yr  happy_first_value  happy_last_value happy_last_yr  \\\n",
       "country                                                                       \n",
       "Venezuela           2005               71.7              49.3          2021   \n",
       "\n",
       "              up  \n",
       "country           \n",
       "Venezuela  False  "
      ]
     },
     "execution_count": 52,
     "metadata": {},
     "output_type": "execute_result"
    }
   ],
   "source": [
    "happy_max_abs_val = happy_meta['happy_abs'].max()\n",
    "happy_meta[happy_meta['happy_abs'] == happy_max_abs_val]"
   ]
  },
  {
   "cell_type": "code",
   "execution_count": 53,
   "id": "4b595ec9",
   "metadata": {},
   "outputs": [
    {
     "data": {
      "text/plain": [
       "<AxesSubplot:title={'center':'Happiness Score for Venezuela'}, xlabel='year', ylabel='Happiness Score'>"
      ]
     },
     "execution_count": 53,
     "metadata": {},
     "output_type": "execute_result"
    },
    {
     "data": {
      "image/png": "[encoded data removed]",
      "text/plain": [
       "<Figure size 432x288 with 1 Axes>"
      ]
     },
     "metadata": {
      "needs_background": "light"
     },
     "output_type": "display_data"
    }
   ],
   "source": [
    "happy_lf[happy_lf['country'] == 'Benin'].plot(x ='year', xlabel='year', y ='hs', grid=True, ylabel='Happiness Score', kind='line', title=\"Happiness Score for Venezuela\")"
   ]
  },
  {
   "cell_type": "markdown",
   "id": "b04ef9ce",
   "metadata": {},
   "source": [
    "Of all countries Venezuela has the steepest development from the lowest value in 2012 (around 34 HS) to the highest value in 2018 (at around 56 HS) **Here a furthermore country-specific investigation could be interesting with a special focus on the turning point years in 2012 and 2018**"
   ]
  },
  {
   "cell_type": "markdown",
   "id": "550bcf14",
   "metadata": {},
   "source": [
    "### 3.12 Conclusion EDA of Happiness Score\n",
    "\n",
    "1. The **Scandinavien countries are** regularily Word Happiness Champion. \n",
    "2. 2021 – the most recent datapoint - **Finland** was the happiest nation (Answer to question 3)\n",
    "3. With a Happiness Score of **80.2 Denmark** used to be the happiest nation since the start of measurement. **(Answer to question 4)**\n",
    "4. **Nicaragua improves the most** in terms of Happiness with the greatest difference between the first and last measurement. (17 points) **(Answer question 5)**\n",
    "5. **Venezuela** seems to be the most volatile, most \"dramatic\" nation in terms of Happiness, with the highest span from the lowest to the highest value of happiness. (34.4 points) **(Answer question 6)**"
   ]
  },
  {
   "cell_type": "markdown",
   "id": "cb1d2e7b",
   "metadata": {},
   "source": [
    "## 4. Investigating correlations between Happiness Score, Gini and HDI"
   ]
  },
  {
   "cell_type": "markdown",
   "id": "9c68acff",
   "metadata": {},
   "source": [
    "Here I investigate the **correlation** of **objective values** like HDI and Gini Coefficient on the **subjective value** of Happiness.<br>\n",
    "\n",
    "For this reason, I will **merge** all three sets. Before that I **drop rows** with missing values. My **\"angle-set\"** is the happy_meta set which provides data since 2005. Because I will perform an **inner join** to keep only these data which are in line with the Happiness Data (2005 - 2021)"
   ]
  },
  {
   "cell_type": "code",
   "execution_count": 54,
   "id": "d63f46ee",
   "metadata": {},
   "outputs": [],
   "source": [
    "#happy_lf.shape"
   ]
  },
  {
   "cell_type": "code",
   "execution_count": 55,
   "id": "40f06c05",
   "metadata": {},
   "outputs": [
    {
     "data": {
      "text/plain": [
       "(2067, 3)"
      ]
     },
     "execution_count": 55,
     "metadata": {},
     "output_type": "execute_result"
    }
   ],
   "source": [
    "#Drop all rows with missing data in the Happiness set\n",
    "happy_lf.dropna(inplace=True)\n",
    "happy_lf.shape"
   ]
  },
  {
   "cell_type": "markdown",
   "id": "d716a0e3",
   "metadata": {},
   "source": [
    "### 4.1 Preparing HDI and Gini Sets like the Happiness set"
   ]
  },
  {
   "cell_type": "code",
   "execution_count": 56,
   "id": "d1487faf",
   "metadata": {},
   "outputs": [],
   "source": [
    "#pd.DataFrame('hdi_meta')\n",
    "hdi_meta = hdi_lf.groupby(['country'])['hdi'].mean()\n",
    "hdi_meta = pd.DataFrame(hdi_meta)\n",
    "hdi_meta.rename(columns={'hdi':'hdi_mean'}, inplace=True)\n",
    "hdi_meta['hdi_max'] = hdi_lf.groupby(['country'])['hdi'].max()\n",
    "hdi_meta['hdi_min'] = hdi_lf.groupby(['country'])['hdi'].min()\n",
    "hdi_meta['hdi_std'] = hdi_lf.groupby(['country'])['hdi'].std()\n",
    "hdi_meta['hdi_medi'] = hdi_lf.groupby(['country'])['hdi'].median()\n",
    "hdi_meta['hdi_abs'] = hdi_lf.groupby(['country'])['hdi'].max() - hdi_lf.groupby(['country'])['hdi'].min()\n",
    "hdi_meta['hdi_first_yr'] = hdi_lf.groupby(['country'])['year'].first()\n",
    "hdi_meta['hdi_first_value'] = hdi_lf.groupby(['country'])['hdi'].first()\n",
    "hdi_meta['hdi_last_value'] = hdi_lf.groupby(['country'])['hdi'].last()\n",
    "hdi_meta['hdi_last_yr'] = hdi_lf.groupby(['country'])['year'].last()\n",
    "#hdi_meta.head(2)"
   ]
  },
  {
   "cell_type": "code",
   "execution_count": 57,
   "id": "eb808c85",
   "metadata": {},
   "outputs": [],
   "source": [
    "gini_meta = gini_lf.groupby(['country'])['gini'].mean()\n",
    "gini_meta = pd.DataFrame(gini_meta)\n",
    "gini_meta.rename(columns={'gini':'gini_mean'}, inplace=True)\n",
    "gini_meta['gini_max'] = gini_lf.groupby(['country'])['gini'].max()\n",
    "gini_meta['gini_min'] = gini_lf.groupby(['country'])['gini'].min()\n",
    "gini_meta['gini_std'] = gini_lf.groupby(['country'])['gini'].std()\n",
    "gini_meta['gini_medi'] = gini_lf.groupby(['country'])['gini'].median()\n",
    "gini_meta['gini_abs'] = gini_lf.groupby(['country'])['gini'].max() - gini_lf.groupby(['country'])['gini'].min()\n",
    "gini_meta['gini_first_yr'] = gini_lf.groupby(['country'])['year'].first()\n",
    "gini_meta['gini_first_value'] = gini_lf.groupby(['country'])['gini'].first()\n",
    "gini_meta['gini_last_value'] = gini_lf.groupby(['country'])['gini'].last()\n",
    "gini_meta['gini_last_yr'] = gini_lf.groupby(['country'])['year'].last()\n",
    "#gini_meta.head(2)"
   ]
  },
  {
   "cell_type": "markdown",
   "id": "4605dd37",
   "metadata": {},
   "source": [
    "### 4.2 Losing country-rows by dropping nan values and performing an inner merge"
   ]
  },
  {
   "cell_type": "code",
   "execution_count": 58,
   "id": "33b62504",
   "metadata": {},
   "outputs": [],
   "source": [
    "#gini_meta.shape"
   ]
  },
  {
   "cell_type": "code",
   "execution_count": 59,
   "id": "c6fd1f16",
   "metadata": {},
   "outputs": [],
   "source": [
    "gini_meta.dropna(inplace=True)"
   ]
  },
  {
   "cell_type": "code",
   "execution_count": 60,
   "id": "0f5b1406",
   "metadata": {},
   "outputs": [],
   "source": [
    "#gini_meta.shape"
   ]
  },
  {
   "cell_type": "code",
   "execution_count": 61,
   "id": "ac3ae3a0",
   "metadata": {},
   "outputs": [],
   "source": [
    "#hdi_meta.shape"
   ]
  },
  {
   "cell_type": "code",
   "execution_count": 62,
   "id": "857a17ac",
   "metadata": {},
   "outputs": [],
   "source": [
    "hdi_meta.dropna(inplace=True)"
   ]
  },
  {
   "cell_type": "code",
   "execution_count": 63,
   "id": "15aa02d3",
   "metadata": {},
   "outputs": [],
   "source": [
    "#hdi_meta.shape"
   ]
  },
  {
   "cell_type": "code",
   "execution_count": 64,
   "id": "c7bae3ae",
   "metadata": {},
   "outputs": [],
   "source": [
    "#happy_meta.shape"
   ]
  },
  {
   "cell_type": "code",
   "execution_count": 65,
   "id": "889db972",
   "metadata": {},
   "outputs": [],
   "source": [
    "happy_meta.dropna(inplace=True)"
   ]
  },
  {
   "cell_type": "code",
   "execution_count": 66,
   "id": "5e36e1d2",
   "metadata": {
    "scrolled": true
   },
   "outputs": [],
   "source": [
    "#happy_meta.shape"
   ]
  },
  {
   "cell_type": "markdown",
   "id": "2dc164be",
   "metadata": {},
   "source": [
    "Due to the dropping of data, I lost some country rows. I could check which ones. But because I am interested in the overall trend, the little number of countries which are lost in the sets is negligible.\n",
    "\n",
    "However, after combining both sets …"
   ]
  },
  {
   "cell_type": "code",
   "execution_count": 67,
   "id": "236953d9",
   "metadata": {},
   "outputs": [],
   "source": [
    "happy_hdi_combined = happy_meta.merge(hdi_meta, left_on='country', right_on='country', how='inner')"
   ]
  },
  {
   "cell_type": "markdown",
   "id": "4381e2f6",
   "metadata": {},
   "source": [
    "I again lose some data due to the inner merge:"
   ]
  },
  {
   "cell_type": "code",
   "execution_count": 68,
   "id": "a72db7c2",
   "metadata": {
    "scrolled": true
   },
   "outputs": [],
   "source": [
    "#happy_hdi_combined.shape"
   ]
  },
  {
   "cell_type": "code",
   "execution_count": 69,
   "id": "2ce68367",
   "metadata": {},
   "outputs": [],
   "source": [
    "#combined = happy_hdi_combined.index.tolist()\n",
    "#happy_countries = happy_meta.index.tolist()\n",
    "#diff = set(happy_countries).difference(set(combined))\n",
    "#diff"
   ]
  },
  {
   "cell_type": "markdown",
   "id": "97d206cf",
   "metadata": {},
   "source": [
    "Those countries were not included in the HDI set."
   ]
  },
  {
   "cell_type": "code",
   "execution_count": 70,
   "id": "721d0eaa",
   "metadata": {},
   "outputs": [],
   "source": [
    "#happy_hdi_combined.head(2)"
   ]
  },
  {
   "cell_type": "markdown",
   "id": "092bd7d2",
   "metadata": {},
   "source": [
    "For the sake of coherence, I change the name from hs_mean to happy_mean"
   ]
  },
  {
   "cell_type": "code",
   "execution_count": 71,
   "id": "42607398",
   "metadata": {},
   "outputs": [],
   "source": [
    "happy_hdi_combined.rename(columns= {'hs_mean' : 'happy_mean'}, inplace = True)"
   ]
  },
  {
   "cell_type": "code",
   "execution_count": 72,
   "id": "bd757e6e",
   "metadata": {},
   "outputs": [],
   "source": [
    "happy_hdi_gini_combined = happy_hdi_combined.merge(gini_meta, left_on='country', right_on='country', how='inner')"
   ]
  },
  {
   "cell_type": "code",
   "execution_count": 73,
   "id": "31bd26bc",
   "metadata": {},
   "outputs": [],
   "source": [
    "#happy_hdi_gini_combined.shape"
   ]
  },
  {
   "cell_type": "markdown",
   "id": "2b0fd955",
   "metadata": {},
   "source": [
    "And again, due to the inner merge I lost some country rows that the Gini set does not provide. Please uncomment, when you want to see which countries. "
   ]
  },
  {
   "cell_type": "code",
   "execution_count": 74,
   "id": "f5f35f07",
   "metadata": {},
   "outputs": [],
   "source": [
    "#combined = happy_hdi_gini_combined.index.tolist()\n",
    "#happy_countries = happy_meta.index.tolist()\n",
    "#diff = set(happy_countries).difference(set(combined))\n",
    "#diff"
   ]
  },
  {
   "cell_type": "markdown",
   "id": "1b34b8a3",
   "metadata": {},
   "source": [
    "### 4.3 The correlation of Happiness and HDI"
   ]
  },
  {
   "cell_type": "code",
   "execution_count": 75,
   "id": "6f2511fd",
   "metadata": {},
   "outputs": [
    {
     "data": {
      "text/plain": [
       "<AxesSubplot:xlabel='hdi_mean', ylabel='happy_mean'>"
      ]
     },
     "execution_count": 75,
     "metadata": {},
     "output_type": "execute_result"
    },
    {
     "data": {
      "image/png": "[encoded data removed]",
      "text/plain": [
       "<Figure size 432x288 with 1 Axes>"
      ]
     },
     "metadata": {
      "needs_background": "light"
     },
     "output_type": "display_data"
    }
   ],
   "source": [
    "happy_hdi_gini_combined.plot.scatter(x='hdi_mean', y='happy_mean')"
   ]
  },
  {
   "cell_type": "markdown",
   "id": "4e3d2a4d",
   "metadata": {},
   "source": [
    "HDI and HS are positively correlated. The higher the HDI the stronger the correlation between those values. The values diffuse the most between the 50th and the 75th percentile. To prove this assumption I will divide the combined set into four: from 0 to 24; from 25 to 74 and from 75 to 100 percentile. But first I will check the overall correlation:"
   ]
  },
  {
   "cell_type": "code",
   "execution_count": 76,
   "id": "a18286e2",
   "metadata": {},
   "outputs": [
    {
     "data": {
      "text/plain": [
       "0.8404999344672814"
      ]
     },
     "execution_count": 76,
     "metadata": {},
     "output_type": "execute_result"
    }
   ],
   "source": [
    "corr_hdi_hs = happy_hdi_gini_combined['hdi_mean'].corr(happy_hdi_gini_combined['happy_mean'])\n",
    "corr_hdi_hs"
   ]
  },
  {
   "cell_type": "markdown",
   "id": "fe8900e1",
   "metadata": {},
   "source": [
    "The overall correlation is indeed quite strong. Indicating that the higher the HDI, the higher the happiness. But does this count for every quartile?"
   ]
  },
  {
   "cell_type": "markdown",
   "id": "70bbf0a0",
   "metadata": {},
   "source": [
    "### 4.4 Correlation between HS and HDI in the four quartile ranges"
   ]
  },
  {
   "cell_type": "markdown",
   "id": "72f66f0b",
   "metadata": {},
   "source": [
    "Based on the scatter plot above, **the correlation between HDI and Happiness is not equally distributed over all quartiles**. I will investigate this in more detail. For this reason **I split the combined set into four sets.**"
   ]
  },
  {
   "cell_type": "code",
   "execution_count": 77,
   "id": "109a2090",
   "metadata": {},
   "outputs": [],
   "source": [
    "first_quart, second_quart, third_quart, fourth_quart = [group for _, group in happy_hdi_gini_combined.groupby(pd.qcut(happy_hdi_gini_combined['hdi_mean'], 4))]"
   ]
  },
  {
   "cell_type": "markdown",
   "id": "960b80ef",
   "metadata": {},
   "source": [
    "### First Quartile ranging from 0 to 24th percentile"
   ]
  },
  {
   "cell_type": "code",
   "execution_count": 78,
   "id": "3a71c5cf",
   "metadata": {},
   "outputs": [
    {
     "data": {
      "text/plain": [
       "<AxesSubplot:xlabel='hdi_mean', ylabel='happy_mean'>"
      ]
     },
     "execution_count": 78,
     "metadata": {},
     "output_type": "execute_result"
    },
    {
     "data": {
      "image/png": "[encoded data removed]",
      "text/plain": [
       "<Figure size 432x288 with 1 Axes>"
      ]
     },
     "metadata": {
      "needs_background": "light"
     },
     "output_type": "display_data"
    }
   ],
   "source": [
    "first_quart.plot.scatter(x='hdi_mean', y='happy_mean')"
   ]
  },
  {
   "cell_type": "code",
   "execution_count": 79,
   "id": "e9b5e8ee",
   "metadata": {
    "scrolled": true
   },
   "outputs": [
    {
     "data": {
      "text/plain": [
       "0.28463072985921656"
      ]
     },
     "execution_count": 79,
     "metadata": {},
     "output_type": "execute_result"
    }
   ],
   "source": [
    "corr_hdi_hs_1qrt = first_quart['hdi_mean'].corr(first_quart['happy_mean'])\n",
    "corr_hdi_hs_1qrt"
   ]
  },
  {
   "cell_type": "markdown",
   "id": "7aeb9d8f",
   "metadata": {},
   "source": [
    "In the first quartile, the **HDI ranges from 0.30 to 0.50**. And there is a **slightly positive correlation between HDI and Happiness**. Improvements in this quartile in terms of HDI do **not have much impact on Happiness**. Maybe this is because these improvements do not reach all habitants of a certain nation. Here the investigation of the Gini could be helpful. (next section)\n",
    "\n",
    "Please uncomment to take a look at these countries. They consist of very different nations ranging from **\"Failing states\"** like Sierra Leone to **\"scarcely industrialized post-colonial states\"** like Pakistan."
   ]
  },
  {
   "cell_type": "code",
   "execution_count": 80,
   "id": "71df9512",
   "metadata": {},
   "outputs": [],
   "source": [
    "#first_quart.index.tolist()"
   ]
  },
  {
   "cell_type": "markdown",
   "id": "f5414f96",
   "metadata": {},
   "source": [
    "### Second Quartile ranging from 25th to 49th percentile"
   ]
  },
  {
   "cell_type": "code",
   "execution_count": 81,
   "id": "d94b4480",
   "metadata": {},
   "outputs": [
    {
     "data": {
      "text/plain": [
       "<AxesSubplot:xlabel='hdi_mean', ylabel='happy_mean'>"
      ]
     },
     "execution_count": 81,
     "metadata": {},
     "output_type": "execute_result"
    },
    {
     "data": {
      "image/png": "[encoded data removed]",
      "text/plain": [
       "<Figure size 432x288 with 1 Axes>"
      ]
     },
     "metadata": {
      "needs_background": "light"
     },
     "output_type": "display_data"
    }
   ],
   "source": [
    "second_quart.plot.scatter(x='hdi_mean', y='happy_mean')"
   ]
  },
  {
   "cell_type": "code",
   "execution_count": 82,
   "id": "f0f85f9f",
   "metadata": {},
   "outputs": [
    {
     "data": {
      "text/plain": [
       "0.4500841420969141"
      ]
     },
     "execution_count": 82,
     "metadata": {},
     "output_type": "execute_result"
    }
   ],
   "source": [
    "corr_hdi_hs_2qrt = second_quart['hdi_mean'].corr(second_quart['happy_mean'])\n",
    "corr_hdi_hs_2qrt"
   ]
  },
  {
   "cell_type": "markdown",
   "id": "8c6dc893",
   "metadata": {},
   "source": [
    "The **correlation between HDI and Happiness** from countries in the **second quartile** with an HDI ranging from 0.5 to around 0.7 is **higher** than in the first quartile. But the Happiness Mean ranges from 40 (higher entry level) to 65, surpassing the first quartile of more than 11 points. **So happiness is more stronger correlated with HDI in the 2nd quartile, than in the 1st and 3rd quartiles.** Which countries are in?"
   ]
  },
  {
   "cell_type": "code",
   "execution_count": 83,
   "id": "857663d0",
   "metadata": {},
   "outputs": [],
   "source": [
    "#second_quart.index.tolist()"
   ]
  },
  {
   "cell_type": "markdown",
   "id": "d2b078ef",
   "metadata": {},
   "source": [
    "This is interesting: This quartile consists of two of the coming world powers – **China** and **India** – states like **Honduras** which is famous for its high criminality, indicating a powerless state, and **Nicaragua** the state with the highest improvement between first and last year measured for Happiness.\n",
    "\n",
    "**This could be a subject for further investigation: It could be interesting to investigate the impact of environment, freedom and literacy, especially on countries in this section.**"
   ]
  },
  {
   "cell_type": "markdown",
   "id": "8063b805",
   "metadata": {},
   "source": [
    "### Third Quartile ranging from 50th to 74th percentile"
   ]
  },
  {
   "cell_type": "code",
   "execution_count": 84,
   "id": "3c3a3783",
   "metadata": {},
   "outputs": [
    {
     "data": {
      "text/plain": [
       "<AxesSubplot:xlabel='hdi_mean', ylabel='happy_mean'>"
      ]
     },
     "execution_count": 84,
     "metadata": {},
     "output_type": "execute_result"
    },
    {
     "data": {
      "image/png": "[encoded data removed]",
      "text/plain": [
       "<Figure size 432x288 with 1 Axes>"
      ]
     },
     "metadata": {
      "needs_background": "light"
     },
     "output_type": "display_data"
    }
   ],
   "source": [
    "third_quart.plot.scatter(x=\"hdi_mean\", y=\"happy_mean\")"
   ]
  },
  {
   "cell_type": "code",
   "execution_count": 85,
   "id": "4421fec8",
   "metadata": {},
   "outputs": [
    {
     "data": {
      "text/plain": [
       "0.19560848624358415"
      ]
     },
     "execution_count": 85,
     "metadata": {},
     "output_type": "execute_result"
    }
   ],
   "source": [
    "corr_hdi_hs_3qrt = third_quart['hdi_mean'].corr(third_quart['happy_mean'])\n",
    "corr_hdi_hs_3qrt"
   ]
  },
  {
   "cell_type": "markdown",
   "id": "a0385497",
   "metadata": {},
   "source": [
    "That is interesting: **In the third quartile, the correlation between HDI and HS drops.** Which countries are we talking about here?"
   ]
  },
  {
   "cell_type": "code",
   "execution_count": 86,
   "id": "c6fb171f",
   "metadata": {
    "scrolled": true
   },
   "outputs": [],
   "source": [
    "#third_quart.index.tolist()"
   ]
  },
  {
   "cell_type": "markdown",
   "id": "c2a47c8f",
   "metadata": {},
   "source": [
    "The countries are quite different. Most of them are [Hybrid Democratic systems](https://en.wikipedia.org/wiki/Hybrid_regime) – which means, that they are in a transition from a democratic to an authoritarian regime or vice versa. The last year measured is 2021. Some of these countries are facing violence on a daily basis or are involved in a war now (Ukraine). Venezuala is part of the third quartile - the nation with the most \"Drama\", the greatest difference from Highest to lowest value. **All these countries are developed in economical terms, otherwise, they would not be in this quartile. So they are obviously lacking something other than a long(er) life expectation, high(er) education, and high(er) income, which the HDI measure. This could explain the low correlation of happiness and HDI in this section**"
   ]
  },
  {
   "cell_type": "markdown",
   "id": "5d22179a",
   "metadata": {},
   "source": [
    "### Fourth Quartile ranging from 75th to 100th percentile"
   ]
  },
  {
   "cell_type": "code",
   "execution_count": 87,
   "id": "53f635fd",
   "metadata": {},
   "outputs": [
    {
     "data": {
      "text/plain": [
       "<AxesSubplot:xlabel='hdi_mean', ylabel='happy_mean'>"
      ]
     },
     "execution_count": 87,
     "metadata": {},
     "output_type": "execute_result"
    },
    {
     "data": {
      "image/png": "[encoded data removed]",
      "text/plain": [
       "<Figure size 432x288 with 1 Axes>"
      ]
     },
     "metadata": {
      "needs_background": "light"
     },
     "output_type": "display_data"
    }
   ],
   "source": [
    "fourth_quart.plot.scatter(x=\"hdi_mean\", y=\"happy_mean\")"
   ]
  },
  {
   "cell_type": "code",
   "execution_count": 88,
   "id": "758d55dd",
   "metadata": {},
   "outputs": [
    {
     "data": {
      "text/plain": [
       "0.827274541607356"
      ]
     },
     "execution_count": 88,
     "metadata": {},
     "output_type": "execute_result"
    }
   ],
   "source": [
    "corr_hdi_hs_4qrt = fourth_quart['hdi_mean'].corr(fourth_quart['happy_mean'])\n",
    "corr_hdi_hs_4qrt"
   ]
  },
  {
   "cell_type": "code",
   "execution_count": 89,
   "id": "f6990a19",
   "metadata": {
    "scrolled": true
   },
   "outputs": [],
   "source": [
    "#fourth_quart.index.tolist()"
   ]
  },
  {
   "cell_type": "markdown",
   "id": "8968e995",
   "metadata": {},
   "source": [
    "In the fourth quartile with the highest HDI, the people are the happiest. One explanation could be, that developed countries could also provide other factors of well-being like \"stability\", \"freedom\", \"clean environment\". **However, it would be important to identify hindering factors especially in this section:** <br>We are facing radicalization in politics, escpecially in countries in this section. This is due to a rising discontent with how society develops. If we miss to identify and address these issues, things could go worse."
   ]
  },
  {
   "cell_type": "markdown",
   "id": "2a2eac51",
   "metadata": {},
   "source": [
    "### 4.5 Conclusion HDI and Happiness Correlation\n",
    "Happiness and HDI correlate the strongest in the 75th to 100th percentile and the lowest in the above-average to 75th percentile. **A possible conclusion could be, that a relatively high HDI does not compensate for other shortcomings like lack of freedom or a clean environment.** \n",
    "\n",
    "Happiness Champions (The To 10) are situated in the fourth HDI Quartile. This means, that economic stability, education, and life expectation plays a crucial role in the Happiness Game. \n",
    "\n",
    "You could also frame it, that we turned into \"materialists\". Could we \"boost\" happiness by investing far more in families, welcoming societies and inclusive neighborhoods – cherishing values beyond economic stability? \n",
    "\n",
    "**To be less vulnerable to economical downfalls is important. Especially for a society in which happiness is so strongly correlated with economic prosperity.**\n",
    "\n",
    "However further investigation needs to explain the rise of far right parties in Italy, Poland, Sweden, France, and Germany despite a high HDI. "
   ]
  },
  {
   "cell_type": "markdown",
   "id": "0cf86394",
   "metadata": {},
   "source": [
    "### 4.6 Gini and Happiness (Overall Correlation)"
   ]
  },
  {
   "cell_type": "code",
   "execution_count": 90,
   "id": "15460cfa",
   "metadata": {},
   "outputs": [
    {
     "data": {
      "text/plain": [
       "<AxesSubplot:xlabel='gini_mean', ylabel='happy_mean'>"
      ]
     },
     "execution_count": 90,
     "metadata": {},
     "output_type": "execute_result"
    },
    {
     "data": {
      "image/png": "[encoded data removed]",
      "text/plain": [
       "<Figure size 432x288 with 1 Axes>"
      ]
     },
     "metadata": {
      "needs_background": "light"
     },
     "output_type": "display_data"
    }
   ],
   "source": [
    "happy_hdi_gini_combined.plot.scatter(x='gini_mean', y='happy_mean')"
   ]
  },
  {
   "cell_type": "code",
   "execution_count": 91,
   "id": "9a9e92f9",
   "metadata": {},
   "outputs": [
    {
     "data": {
      "text/plain": [
       "-0.3059548749198262"
      ]
     },
     "execution_count": 91,
     "metadata": {},
     "output_type": "execute_result"
    }
   ],
   "source": [
    "corr_happy_gini = happy_hdi_gini_combined['gini_mean'].corr(happy_hdi_gini_combined['happy_mean'])\n",
    "corr_happy_gini"
   ]
  },
  {
   "cell_type": "markdown",
   "id": "5b5dff45",
   "metadata": {},
   "source": [
    "Happiness score and Gini coefficient seem to be slightly negatively correlated: <br>\n",
    "**The higher the happiness the lower the Gini coefficient.** This makes intuitive sense because a lesser Gini coefficient means more equality. "
   ]
  },
  {
   "cell_type": "code",
   "execution_count": 92,
   "id": "a594b8e5",
   "metadata": {},
   "outputs": [],
   "source": [
    "first_quart_gini, second_quart_gini, third_quart_gini, fourth_quart_gini = [group for _, group in happy_hdi_gini_combined.groupby(pd.qcut(happy_hdi_gini_combined['gini_mean'], 4))]"
   ]
  },
  {
   "cell_type": "markdown",
   "id": "0226d319",
   "metadata": {},
   "source": [
    "### First Quartile ranging from 25 to 33 Gini Coefficient"
   ]
  },
  {
   "cell_type": "markdown",
   "id": "c127662e",
   "metadata": {},
   "source": [
    "#### Gini: Higher equality contributes to Happiness. But could there be too much equality?"
   ]
  },
  {
   "cell_type": "code",
   "execution_count": 93,
   "id": "0bce6b62",
   "metadata": {},
   "outputs": [
    {
     "data": {
      "text/plain": [
       "<AxesSubplot:xlabel='gini_mean', ylabel='happy_mean'>"
      ]
     },
     "execution_count": 93,
     "metadata": {},
     "output_type": "execute_result"
    },
    {
     "data": {
      "image/png": "[encoded data removed]",
      "text/plain": [
       "<Figure size 432x288 with 1 Axes>"
      ]
     },
     "metadata": {
      "needs_background": "light"
     },
     "output_type": "display_data"
    }
   ],
   "source": [
    "first_quart_gini.plot.scatter(x='gini_mean', y='happy_mean')"
   ]
  },
  {
   "cell_type": "code",
   "execution_count": 94,
   "id": "1c64cac3",
   "metadata": {},
   "outputs": [
    {
     "data": {
      "text/plain": [
       "-0.4666903238954578"
      ]
     },
     "execution_count": 94,
     "metadata": {},
     "output_type": "execute_result"
    }
   ],
   "source": [
    "corr_gini_hs_1qrt = first_quart_gini['gini_mean'].corr(first_quart_gini['happy_mean'])\n",
    "corr_gini_hs_1qrt"
   ]
  },
  {
   "cell_type": "code",
   "execution_count": 95,
   "id": "97c9c983",
   "metadata": {},
   "outputs": [],
   "source": [
    "#first_quart_gini.index.tolist()"
   ]
  },
  {
   "cell_type": "markdown",
   "id": "111f2927",
   "metadata": {},
   "source": [
    "In the countries with the lowest Gini (highest equality), happiness is negatively correlated – which makes sense. (See above). **The Happiness Values range from 45 to 75 – which is a huge span.** But taking into account, that this section consists of different countries like \"Sweden\", \"Iraq\" and \"Germany\" make sense. \n",
    "\n",
    "Please also not, that there are countries lacking some data, which could distort the picture. \n",
    "\n",
    "**Interestingly Finland and Denmark – the Happiness Champions – are in this section with the most equality.**"
   ]
  },
  {
   "cell_type": "code",
   "execution_count": 96,
   "id": "eadbd214",
   "metadata": {
    "scrolled": false
   },
   "outputs": [
    {
     "data": {
      "text/plain": [
       "<AxesSubplot:title={'center':'Gini Coefficient for Finland'}, xlabel='year', ylabel='Gini Coefficient'>"
      ]
     },
     "execution_count": 96,
     "metadata": {},
     "output_type": "execute_result"
    },
    {
     "data": {
      "image/png": "[encoded data removed]",
      "text/plain": [
       "<Figure size 432x288 with 1 Axes>"
      ]
     },
     "metadata": {
      "needs_background": "light"
     },
     "output_type": "display_data"
    }
   ],
   "source": [
    "gini_lf.dropna(inplace=True)\n",
    "gini_lf[gini_lf['country'] == 'Finland'].plot(x ='year', xlabel='year', y ='gini', grid=True, ylabel='Gini Coefficient', kind='line', title=\"Gini Coefficient for Finland\")"
   ]
  },
  {
   "cell_type": "code",
   "execution_count": 97,
   "id": "1b05496e",
   "metadata": {},
   "outputs": [
    {
     "data": {
      "text/plain": [
       "<AxesSubplot:title={'center':'Happiness Score for Finland'}, xlabel='year', ylabel='Happiness Score'>"
      ]
     },
     "execution_count": 97,
     "metadata": {},
     "output_type": "execute_result"
    },
    {
     "data": {
      "image/png": "[encoded data removed]",
      "text/plain": [
       "<Figure size 432x288 with 1 Axes>"
      ]
     },
     "metadata": {
      "needs_background": "light"
     },
     "output_type": "display_data"
    }
   ],
   "source": [
    "happy_lf[happy_lf['country'] == 'Finland'].plot(x ='year', xlabel='year', y ='hs', grid=True, ylabel='Happiness Score', kind='line', title=\"Happiness Score for Finland\")"
   ]
  },
  {
   "cell_type": "markdown",
   "id": "ab7eea30",
   "metadata": {},
   "source": [
    "It would be very interesting to see how far a higher Gini than now - like in the 80s - would have correlated to Happiness. "
   ]
  },
  {
   "cell_type": "code",
   "execution_count": 98,
   "id": "ecec9f4b",
   "metadata": {
    "scrolled": true
   },
   "outputs": [
    {
     "data": {
      "text/plain": [
       "<AxesSubplot:title={'center':'Gini Coefficient for Denmark'}, xlabel='year', ylabel='Gini Coefficient'>"
      ]
     },
     "execution_count": 98,
     "metadata": {},
     "output_type": "execute_result"
    },
    {
     "data": {
      "image/png": "[encoded data removed]",
      "text/plain": [
       "<Figure size 432x288 with 1 Axes>"
      ]
     },
     "metadata": {
      "needs_background": "light"
     },
     "output_type": "display_data"
    }
   ],
   "source": [
    "gini_lf.dropna(inplace=True)\n",
    "gini_lf[gini_lf['country'] == 'Denmark'].plot(x ='year', xlabel='year', y ='gini', grid=True, ylabel='Gini Coefficient', kind='line', title=\"Gini Coefficient for Denmark\")"
   ]
  },
  {
   "cell_type": "markdown",
   "id": "2e64422d",
   "metadata": {},
   "source": [
    "#### Findings 1nd Quartile\n",
    "In both countries, the Gini index has risen slightly. Since the 80s. Also, happiness improves. **For me as politically left-aligned this is an interesting insight: Rising inequality (which is indicated by a higher Gini) could contribute to happiness.** Which makes sense: Too much equality and too much inequality may generate \"unhappiness\". **Is there a threshold value? At which value does the Gini Coefficient contribute to unhappiness and vice versa? This could be a topic for further investigation.**"
   ]
  },
  {
   "cell_type": "markdown",
   "id": "a7b0008b",
   "metadata": {},
   "source": [
    "### Second Quartile ranging from 33 to 38 Gini Coefficient\n",
    "#### When does Gini start to make you unhappy? Somewhere between 33 - 38."
   ]
  },
  {
   "cell_type": "code",
   "execution_count": 99,
   "id": "d3ebdd33",
   "metadata": {},
   "outputs": [
    {
     "data": {
      "text/plain": [
       "<AxesSubplot:xlabel='gini_mean', ylabel='happy_mean'>"
      ]
     },
     "execution_count": 99,
     "metadata": {},
     "output_type": "execute_result"
    },
    {
     "data": {
      "image/png": "[encoded data removed]",
      "text/plain": [
       "<Figure size 432x288 with 1 Axes>"
      ]
     },
     "metadata": {
      "needs_background": "light"
     },
     "output_type": "display_data"
    }
   ],
   "source": [
    "second_quart_gini.plot.scatter(x=\"gini_mean\", y=\"happy_mean\")"
   ]
  },
  {
   "cell_type": "code",
   "execution_count": 100,
   "id": "5e475af9",
   "metadata": {},
   "outputs": [
    {
     "data": {
      "text/plain": [
       "-0.5495997249699662"
      ]
     },
     "execution_count": 100,
     "metadata": {},
     "output_type": "execute_result"
    }
   ],
   "source": [
    "corr_gini_hs_2qrt = second_quart_gini['happy_mean'].corr(second_quart_gini['gini_mean'])\n",
    "corr_gini_hs_2qrt"
   ]
  },
  {
   "cell_type": "code",
   "execution_count": 101,
   "id": "6666a11b",
   "metadata": {
    "scrolled": true
   },
   "outputs": [],
   "source": [
    "#second_quart_gini.index.tolist()"
   ]
  },
  {
   "cell_type": "markdown",
   "id": "c8488b69",
   "metadata": {},
   "source": [
    "Here we have countries like \"Switzerland\" and \"Algeria\". In this quartile, the Happiness Score does not exceed 75 like in the first quartile. But the entry value of 35 is much lower. This could be interpreted as:\n",
    "**A higher Gini makes people less happy. This indicates a lower Happiness entry Score of 35 in the second quartile compared to 45 in the first quartile.**\n",
    "\n",
    "**And maybe the threshold value from above is now found by accident: A Gini at 38+ could contribute to unhappiness. Which should be investigated further.**"
   ]
  },
  {
   "cell_type": "markdown",
   "id": "e8eb03ae",
   "metadata": {},
   "source": [
    "### Third Quartile ranging from 38 to 44 Gini Coefficient"
   ]
  },
  {
   "cell_type": "markdown",
   "id": "d41ff800",
   "metadata": {},
   "source": [
    "#### High Gini, less Happy? The decline of Happiness in the USA and the rise of the Gini."
   ]
  },
  {
   "cell_type": "code",
   "execution_count": 102,
   "id": "97812460",
   "metadata": {},
   "outputs": [
    {
     "data": {
      "text/plain": [
       "<AxesSubplot:xlabel='gini_mean', ylabel='happy_mean'>"
      ]
     },
     "execution_count": 102,
     "metadata": {},
     "output_type": "execute_result"
    },
    {
     "data": {
      "image/png": "[encoded data removed]",
      "text/plain": [
       "<Figure size 432x288 with 1 Axes>"
      ]
     },
     "metadata": {
      "needs_background": "light"
     },
     "output_type": "display_data"
    }
   ],
   "source": [
    "third_quart_gini.plot.scatter(x=\"gini_mean\", y=\"happy_mean\")"
   ]
  },
  {
   "cell_type": "code",
   "execution_count": 103,
   "id": "cc526c2e",
   "metadata": {},
   "outputs": [
    {
     "data": {
      "text/plain": [
       "-0.16036141589652617"
      ]
     },
     "execution_count": 103,
     "metadata": {},
     "output_type": "execute_result"
    }
   ],
   "source": [
    "corr_gini_hs_3qrt = third_quart_gini['happy_mean'].corr(third_quart_gini['gini_mean'])\n",
    "corr_gini_hs_3qrt"
   ]
  },
  {
   "cell_type": "code",
   "execution_count": 104,
   "id": "9929799b",
   "metadata": {},
   "outputs": [],
   "source": [
    "#third_quart_gini.index.tolist()"
   ]
  },
  {
   "cell_type": "markdown",
   "id": "b2606bee",
   "metadata": {},
   "source": [
    "#### Findings 3rd Quartile\n",
    "\n",
    "In this quartile which includes also very different countries like the US and Chad, Happiness and Gini are **no longer strongly correlated.**\n",
    "<br>\n",
    "Maybe this is due to mentality, like a different understanding of \"freedom\" than for example in Europe. Especially with regard to the US.\n",
    "This could be an interesting topic for further investigation: **Because the US is far more devoleped in terms of HDI than the other countries in this quartile. But the contribution of wealth is more unequal there than in other \"developed\" states**\n",
    "<br>\n",
    "Anyway: A lower Gini contributes to higher Happiness. And in terms of Happiness, this section does not perfom as good as the first: **More people are unhappy because the Happiness Score here starts at .35 and in the first quartile at .45**\n",
    "\n",
    "**This is the same finding as in the second quartile.**"
   ]
  },
  {
   "cell_type": "code",
   "execution_count": 105,
   "id": "30238561",
   "metadata": {
    "scrolled": true
   },
   "outputs": [
    {
     "data": {
      "text/plain": [
       "<AxesSubplot:title={'center':'Gini Coefficient for USA'}, xlabel='year', ylabel='Gini Coefficient'>"
      ]
     },
     "execution_count": 105,
     "metadata": {},
     "output_type": "execute_result"
    },
    {
     "data": {
      "image/png": "[encoded data removed]",
      "text/plain": [
       "<Figure size 432x288 with 1 Axes>"
      ]
     },
     "metadata": {
      "needs_background": "light"
     },
     "output_type": "display_data"
    }
   ],
   "source": [
    "gini_lf.dropna(inplace=True)\n",
    "gini_lf[gini_lf['country'] == 'United States'].plot(x ='year', xlabel='year', y ='gini', grid=True, ylabel='Gini Coefficient', kind='line', title=\"Gini Coefficient for USA\")"
   ]
  },
  {
   "cell_type": "code",
   "execution_count": 106,
   "id": "82686fa2",
   "metadata": {
    "scrolled": true
   },
   "outputs": [
    {
     "data": {
      "text/plain": [
       "<AxesSubplot:title={'center':'Happiness Score for USA'}, xlabel='year', ylabel='Happiness Score'>"
      ]
     },
     "execution_count": 106,
     "metadata": {},
     "output_type": "execute_result"
    },
    {
     "data": {
      "image/png": "[encoded data removed]",
      "text/plain": [
       "<Figure size 432x288 with 1 Axes>"
      ]
     },
     "metadata": {
      "needs_background": "light"
     },
     "output_type": "display_data"
    }
   ],
   "source": [
    "happy_lf[happy_lf['country'] == 'United States'].plot(x ='year', xlabel='year', y ='hs', grid=True, ylabel='Happiness Score', kind='line', title=\"Happiness Score for USA\")"
   ]
  },
  {
   "cell_type": "markdown",
   "id": "164ba639",
   "metadata": {},
   "source": [
    "Because there are a lot of data for Happines missing - they start at 2016 – **I would not draw any conclusion based on these graphs, that a rising Gini from 35 to 41 contributes to dropping happiness.**\n",
    "<br>\n",
    "**But it is quite possible.**"
   ]
  },
  {
   "cell_type": "markdown",
   "id": "20262472",
   "metadata": {},
   "source": [
    "### Fourth Quartile ranging from 45 to 62 Gini Coefficient\n",
    "#### The higher the Gini the less the correlation to happiness. But what about Nicaragua and Venezuela?"
   ]
  },
  {
   "cell_type": "markdown",
   "id": "6d35199e",
   "metadata": {},
   "source": [
    "Let's compare the overall correlation between the mean happiness and the Gini in the fourth quartile."
   ]
  },
  {
   "cell_type": "code",
   "execution_count": 107,
   "id": "e40d31de",
   "metadata": {},
   "outputs": [
    {
     "data": {
      "text/plain": [
       "<AxesSubplot:xlabel='gini_mean', ylabel='happy_mean'>"
      ]
     },
     "execution_count": 107,
     "metadata": {},
     "output_type": "execute_result"
    },
    {
     "data": {
      "image/png": "[encoded data removed]",
      "text/plain": [
       "<Figure size 432x288 with 1 Axes>"
      ]
     },
     "metadata": {
      "needs_background": "light"
     },
     "output_type": "display_data"
    }
   ],
   "source": [
    "fourth_quart_gini.plot.scatter(x=\"gini_mean\", y=\"happy_mean\")"
   ]
  },
  {
   "cell_type": "code",
   "execution_count": 108,
   "id": "d354c226",
   "metadata": {},
   "outputs": [],
   "source": [
    "#fourth_quart_gini.index.tolist()"
   ]
  },
  {
   "cell_type": "code",
   "execution_count": 109,
   "id": "57ad4c54",
   "metadata": {},
   "outputs": [
    {
     "data": {
      "text/plain": [
       "-0.02307530588121188"
      ]
     },
     "execution_count": 109,
     "metadata": {},
     "output_type": "execute_result"
    }
   ],
   "source": [
    "corr_gini_hs_4qrt = fourth_quart_gini['happy_mean'].corr(fourth_quart_gini['gini_mean'])\n",
    "corr_gini_hs_4qrt"
   ]
  },
  {
   "cell_type": "markdown",
   "id": "f7f612b8",
   "metadata": {},
   "source": [
    "In countries with a high Gini (>45), the Happiness Score is less related to equality. Interestingly Venezuela and Nicaragua are the two countries with the highest span between min- and max-value resp. the first year- and last year measured are in this quartile. <br>"
   ]
  },
  {
   "cell_type": "code",
   "execution_count": 110,
   "id": "20f28c30",
   "metadata": {},
   "outputs": [
    {
     "data": {
      "text/plain": [
       "<AxesSubplot:title={'center':'Gini Coefficient for Nicaragua'}, xlabel='year', ylabel='Gini Coefficient'>"
      ]
     },
     "execution_count": 110,
     "metadata": {},
     "output_type": "execute_result"
    },
    {
     "data": {
      "image/png": "[encoded data removed]",
      "text/plain": [
       "<Figure size 432x288 with 1 Axes>"
      ]
     },
     "metadata": {
      "needs_background": "light"
     },
     "output_type": "display_data"
    }
   ],
   "source": [
    "gini_lf[gini_lf['country'] == 'Nicaragua'].plot(x ='year', xlabel='year', y ='gini', grid=True, ylabel='Gini Coefficient', kind='line', title=\"Gini Coefficient for Nicaragua\")"
   ]
  },
  {
   "cell_type": "code",
   "execution_count": 111,
   "id": "5ceb93b0",
   "metadata": {},
   "outputs": [
    {
     "data": {
      "text/plain": [
       "<AxesSubplot:title={'center':'Happy Score for Nicaragua'}, xlabel='year', ylabel='Happiness Score'>"
      ]
     },
     "execution_count": 111,
     "metadata": {},
     "output_type": "execute_result"
    },
    {
     "data": {
      "image/png": "[encoded data removed]",
      "text/plain": [
       "<Figure size 432x288 with 1 Axes>"
      ]
     },
     "metadata": {
      "needs_background": "light"
     },
     "output_type": "display_data"
    }
   ],
   "source": [
    "happy_lf[happy_lf['country'] == 'Nicaragua'].plot(x ='year', xlabel='year', y ='hs', grid=True, ylabel='Happiness Score', kind='line', title=\"Happy Score for Nicaragua\")"
   ]
  },
  {
   "cell_type": "markdown",
   "id": "4810e96f",
   "metadata": {},
   "source": [
    "The data for Gini and Happiness Score (Nicaragua) covers different time spans, only sharing the time between 2006 and 2014. However, the plots could indicate that **a decline in Gini leads to higher Happiness.**"
   ]
  },
  {
   "cell_type": "code",
   "execution_count": 112,
   "id": "75c28329",
   "metadata": {},
   "outputs": [],
   "source": [
    "#gini_lf[gini_lf['country'] == 'Nicaragua'].plot(x ='year', xlabel='year', y ='gini', grid=True, ylabel='Happiness Score', kind='line', title=\"Happy Score for Nicaragua\")"
   ]
  },
  {
   "cell_type": "code",
   "execution_count": 113,
   "id": "3d5c7e32",
   "metadata": {},
   "outputs": [
    {
     "data": {
      "text/plain": [
       "<AxesSubplot:title={'center':'Gini Coefficient for Venezuela'}, xlabel='year', ylabel='Gini Coefficient'>"
      ]
     },
     "execution_count": 113,
     "metadata": {},
     "output_type": "execute_result"
    },
    {
     "data": {
      "image/png": "[encoded data removed]",
      "text/plain": [
       "<Figure size 432x288 with 1 Axes>"
      ]
     },
     "metadata": {
      "needs_background": "light"
     },
     "output_type": "display_data"
    }
   ],
   "source": [
    "gini_lf[gini_lf['country'] == 'Venezuela'].plot(x ='year', xlabel='year', y ='gini', grid=True, ylabel='Gini Coefficient', kind='line', title=\"Gini Coefficient for Venezuela\")"
   ]
  },
  {
   "cell_type": "code",
   "execution_count": 114,
   "id": "92f22ba5",
   "metadata": {},
   "outputs": [
    {
     "data": {
      "text/plain": [
       "<AxesSubplot:title={'center':'Happy Score for Venezuela'}, xlabel='year', ylabel='Happiness Score'>"
      ]
     },
     "execution_count": 114,
     "metadata": {},
     "output_type": "execute_result"
    },
    {
     "data": {
      "image/png": "[encoded data removed]",
      "text/plain": [
       "<Figure size 432x288 with 1 Axes>"
      ]
     },
     "metadata": {
      "needs_background": "light"
     },
     "output_type": "display_data"
    }
   ],
   "source": [
    "happy_lf[happy_lf['country'] == 'Venezuela'].plot(x ='year', xlabel='year', y ='hs', grid=True, ylabel='Happiness Score', kind='line', title=\"Happy Score for Venezuela\")"
   ]
  },
  {
   "cell_type": "markdown",
   "id": "1c4e719e",
   "metadata": {},
   "source": [
    "The Venezuela data for Happiness and Gini are also **hard to compare**. They only have one year in common – in which happiness drops and equality rises – showing a different behavior than other countries. But – there is a lot of data missing sharing the same time span."
   ]
  },
  {
   "cell_type": "markdown",
   "id": "5ba451bb",
   "metadata": {},
   "source": [
    "All in all, based on the data for Gini and Happiness, I conclude, that **the sense of happiness of people living in countries with very high inequality is more impacted by other factors than the lack of equality.** \n",
    "\n",
    "**This could be the topic for further investigation.**"
   ]
  },
  {
   "cell_type": "markdown",
   "id": "d277788c",
   "metadata": {},
   "source": [
    "### 5. Summary: The impact of Gini and HDI on Happiness"
   ]
  },
  {
   "cell_type": "markdown",
   "id": "90af8aae",
   "metadata": {},
   "source": [
    "1. **The Gini Coefficient could have a higher impact on happiness than the HDI:** A highly developed country like the US and strogly developing countries like China are in the third quartile of Gini Score, **where the happiness drops** compared to the first Gini quartile (less inequality). Also from looking at the graphs depicting the development of Gini in the US and the developing of Happiness, one could conclude that despite of a high HDI, Happiness drops when the Gini rises. But: I am left aligned and biased in a way. **Also the data are hard to compare due to the different times covered.** **(Answer to question one)**\n",
    "2. A high Gini (fourth quartile) is very slightly correlated with happines. This could indicate, that there are other factors which are more important than distribution of wealth or a satisfied feeling for justice: Maybe more security or a healthier environment could be more important than equality  – in this quartile. (Answer to question 2)"
   ]
  },
  {
   "cell_type": "markdown",
   "id": "5f5a1f67",
   "metadata": {},
   "source": [
    "### 6. What's missing?"
   ]
  },
  {
   "cell_type": "markdown",
   "id": "bbcf5583",
   "metadata": {},
   "source": [
    "Keep in mind, that the data are not complete: Depending on the set many data are missing. So the comparison of Gini, Happiness, and HDI is not accurate but hopefully accurate enough to show trends. "
   ]
  },
  {
   "cell_type": "markdown",
   "id": "ab6defd5",
   "metadata": {},
   "source": [
    "### 7. What's next?"
   ]
  },
  {
   "cell_type": "markdown",
   "id": "b6fd4a20",
   "metadata": {},
   "source": [
    "To prevent fascistic, populistic regimes which are a threat to democracy and an obstacle in fighting against climate change a \"Happy Nation\" could be an answer. \n",
    "But as we have seen, within the Top-10 Happy Nations (3.8) we have three countries – Netherlands, Denmark, and Sweden – which could be seen as \"problematic\" in terms of populism/right drift. So happiness alone may not be the answer.\n",
    "\n",
    "1. Which factors erode the constructive power of Happiness?\n",
    "2. But wait, is a \"Happy Nation\" neccessarily a \"constructive nation\" – or just enjoying it's happiness, exploiting everyone else? \n",
    "3. In how far are threshold values like a Gini between 33 - 38 may contribute to unhappiness – helpful resp. transferable to all countries? (4.6) \n",
    "4. Special country surveys for nations facing \"populistic threats\" could flesh out the picture of \"Happiness Factors\". These countries could: Hungary, Poland, Italy, the US, Sweden and Brazil. \n",
    "5. Is there a substitute for the Happiness Factor? The data reaches only until 2005. It would be great if we could substitute it so that we could go back in history to see how far happiness/lack of happiness drives nations into prosperity or doomed them. Maybe the expenses for culture, the earnings, or the Music Industry could be an indicator. (There is a tax for everything which could be an indicator)"
   ]
  },
  {
   "cell_type": "markdown",
   "id": "62338b32",
   "metadata": {},
   "source": [
    "### <font color=\"blue\"> 8. Limitations</font>"
   ]
  },
  {
   "cell_type": "markdown",
   "id": "77639c8c",
   "metadata": {},
   "source": [
    "<font color=\"blue\">1. All three data sets cover different timespans. So they often have only one year in common. (The HDI starts in the 1980s for some countries; the Gini starts in the late 1960s for some countries; the Happiness starts in 2005 for some countries.)<br>\n",
    "2. Despite the huge amount of data at the first glance – (measurements since 1967) – there many years are missing. This differs from country to country and from set to set. The most incomplete data are the Gini data.\n",
    "</font>"
   ]
  },
  {
   "cell_type": "code",
   "execution_count": null,
   "id": "20dcf2dc",
   "metadata": {},
   "outputs": [],
   "source": []
  }
 ],
 "metadata": {
  "kernelspec": {
   "display_name": "Python 3 (ipykernel)",
   "language": "python",
   "name": "python3"
  },
  "language_info": {
   "codemirror_mode": {
    "name": "ipython",
    "version": 3
   },
   "file_extension": ".py",
   "mimetype": "text/x-python",
   "name": "python",
   "nbconvert_exporter": "python",
   "pygments_lexer": "ipython3",
   "version": "3.9.12"
  }
 },
 "nbformat": 4,
 "nbformat_minor": 5
}
